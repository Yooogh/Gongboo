{
 "cells": [
  {
   "cell_type": "code",
   "execution_count": 2,
   "id": "6f10d8e7",
   "metadata": {},
   "outputs": [
    {
     "data": {
      "text/plain": [
       "-165"
      ]
     },
     "execution_count": 2,
     "metadata": {},
     "output_type": "execute_result"
    }
   ],
   "source": [
    "2-167"
   ]
  },
  {
   "cell_type": "code",
   "execution_count": 3,
   "id": "456a2775",
   "metadata": {},
   "outputs": [
    {
     "data": {
      "text/plain": [
       "34"
      ]
     },
     "execution_count": 3,
     "metadata": {},
     "output_type": "execute_result"
    }
   ],
   "source": [
    "2*17"
   ]
  },
  {
   "cell_type": "code",
   "execution_count": 4,
   "id": "dc8fc95f",
   "metadata": {},
   "outputs": [
    {
     "data": {
      "text/plain": [
       "289"
      ]
     },
     "execution_count": 4,
     "metadata": {},
     "output_type": "execute_result"
    }
   ],
   "source": [
    "17**2 #제곱"
   ]
  },
  {
   "cell_type": "code",
   "execution_count": 5,
   "id": "560573bc",
   "metadata": {},
   "outputs": [
    {
     "data": {
      "text/plain": [
       "1280"
      ]
     },
     "execution_count": 5,
     "metadata": {},
     "output_type": "execute_result"
    }
   ],
   "source": [
    "10*2**7"
   ]
  },
  {
   "cell_type": "code",
   "execution_count": 6,
   "id": "4423ae66",
   "metadata": {},
   "outputs": [
    {
     "data": {
      "text/plain": [
       "256"
      ]
     },
     "execution_count": 6,
     "metadata": {},
     "output_type": "execute_result"
    }
   ],
   "source": [
    "2**2**3 #제곱의 제곱"
   ]
  },
  {
   "cell_type": "code",
   "execution_count": 7,
   "id": "ed1c8d51",
   "metadata": {},
   "outputs": [
    {
     "data": {
      "text/plain": [
       "3.4"
      ]
     },
     "execution_count": 7,
     "metadata": {},
     "output_type": "execute_result"
    }
   ],
   "source": [
    "17/5 #실수 나눗셈"
   ]
  },
  {
   "cell_type": "code",
   "execution_count": 8,
   "id": "65da09dc",
   "metadata": {},
   "outputs": [
    {
     "data": {
      "text/plain": [
       "3"
      ]
     },
     "execution_count": 8,
     "metadata": {},
     "output_type": "execute_result"
    }
   ],
   "source": [
    "17//5 #정수몫"
   ]
  },
  {
   "cell_type": "code",
   "execution_count": 9,
   "id": "2c30bff6",
   "metadata": {},
   "outputs": [
    {
     "name": "stdout",
     "output_type": "stream",
     "text": [
      "나누어지는 수를 입력하시오: 17\n"
     ]
    }
   ],
   "source": [
    "p=int(input(\"나누어지는 수를 입력하시오: \"))"
   ]
  },
  {
   "cell_type": "code",
   "execution_count": 10,
   "id": "5ddbac64",
   "metadata": {},
   "outputs": [
    {
     "name": "stdout",
     "output_type": "stream",
     "text": [
      "나누는 수를 입력하시오: 5\n"
     ]
    }
   ],
   "source": [
    "q=int(input(\"나누는 수를 입력하시오: \"))"
   ]
  },
  {
   "cell_type": "code",
   "execution_count": 11,
   "id": "30f48639",
   "metadata": {},
   "outputs": [
    {
     "name": "stdout",
     "output_type": "stream",
     "text": [
      "나눗셈의 몫= 3\n"
     ]
    }
   ],
   "source": [
    "print(\"나눗셈의 몫=\", p//q)"
   ]
  },
  {
   "cell_type": "code",
   "execution_count": 12,
   "id": "37c7102a",
   "metadata": {},
   "outputs": [
    {
     "name": "stdout",
     "output_type": "stream",
     "text": [
      "나눗셈의 나머지 2\n"
     ]
    }
   ],
   "source": [
    "print(\"나눗셈의 나머지\", p%q)"
   ]
  },
  {
   "cell_type": "code",
   "execution_count": 13,
   "id": "7920639c",
   "metadata": {},
   "outputs": [],
   "source": [
    "sec = 1000\n",
    "min = sec//60"
   ]
  },
  {
   "cell_type": "code",
   "execution_count": 14,
   "id": "1a1a1733",
   "metadata": {},
   "outputs": [],
   "source": [
    "remainder = sec % 60"
   ]
  },
  {
   "cell_type": "code",
   "execution_count": 15,
   "id": "9833df39",
   "metadata": {},
   "outputs": [
    {
     "name": "stdout",
     "output_type": "stream",
     "text": [
      "16 분 40 초\n"
     ]
    }
   ],
   "source": [
    "print(min,\"분\",remainder,\"초\")"
   ]
  },
  {
   "cell_type": "code",
   "execution_count": 16,
   "id": "2659cf2e",
   "metadata": {},
   "outputs": [
    {
     "ename": "SyntaxError",
     "evalue": "cannot assign to literal (<ipython-input-16-437a586769f3>, line 1)",
     "output_type": "error",
     "traceback": [
      "\u001b[1;36m  File \u001b[1;32m\"<ipython-input-16-437a586769f3>\"\u001b[1;36m, line \u001b[1;32m1\u001b[0m\n\u001b[1;33m    100=x + y\u001b[0m\n\u001b[1;37m    ^\u001b[0m\n\u001b[1;31mSyntaxError\u001b[0m\u001b[1;31m:\u001b[0m cannot assign to literal\n"
     ]
    }
   ],
   "source": [
    "100=x + y"
   ]
  },
  {
   "cell_type": "code",
   "execution_count": 17,
   "id": "25c23c9e",
   "metadata": {},
   "outputs": [
    {
     "ename": "SyntaxError",
     "evalue": "cannot assign to operator (<ipython-input-17-3ed5493338f6>, line 1)",
     "output_type": "error",
     "traceback": [
      "\u001b[1;36m  File \u001b[1;32m\"<ipython-input-17-3ed5493338f6>\"\u001b[1;36m, line \u001b[1;32m1\u001b[0m\n\u001b[1;33m    x + y =100\u001b[0m\n\u001b[1;37m    ^\u001b[0m\n\u001b[1;31mSyntaxError\u001b[0m\u001b[1;31m:\u001b[0m cannot assign to operator\n"
     ]
    }
   ],
   "source": [
    "x + y =100"
   ]
  },
  {
   "cell_type": "code",
   "execution_count": 25,
   "id": "8874d052",
   "metadata": {},
   "outputs": [],
   "source": [
    "x = y =100"
   ]
  },
  {
   "cell_type": "code",
   "execution_count": 23,
   "id": "d026e3d7",
   "metadata": {},
   "outputs": [
    {
     "name": "stdout",
     "output_type": "stream",
     "text": [
      "100\n",
      "100\n"
     ]
    }
   ],
   "source": [
    "print(x)\n",
    "print(y)"
   ]
  },
  {
   "cell_type": "code",
   "execution_count": 20,
   "id": "5a2ef80b",
   "metadata": {},
   "outputs": [
    {
     "name": "stdout",
     "output_type": "stream",
     "text": [
      "203\n"
     ]
    }
   ],
   "source": [
    "x=x*2+3\n",
    "print(x)"
   ]
  },
  {
   "cell_type": "code",
   "execution_count": 26,
   "id": "0a301b9e",
   "metadata": {},
   "outputs": [
    {
     "name": "stdout",
     "output_type": "stream",
     "text": [
      "500\n"
     ]
    }
   ],
   "source": [
    "x*=2+3\n",
    "print(x)"
   ]
  },
  {
   "cell_type": "code",
   "execution_count": 27,
   "id": "451f6b18",
   "metadata": {},
   "outputs": [
    {
     "name": "stdout",
     "output_type": "stream",
     "text": [
      "초깃값 x= 1000\n",
      "x += 2 후의 x 1002\n",
      "x -= 2 후의 x 1000\n"
     ]
    }
   ],
   "source": [
    "x=1000\n",
    "print(\"초깃값 x=\",x)\n",
    "x += 2;\n",
    "print(\"x += 2 후의 x\", x)\n",
    "x -= 2;\n",
    "print(\"x -= 2 후의 x\", x)"
   ]
  },
  {
   "cell_type": "code",
   "execution_count": 29,
   "id": "117b3375",
   "metadata": {},
   "outputs": [
    {
     "name": "stdout",
     "output_type": "stream",
     "text": [
      "첫 번째 수: 100\n",
      "두 번째 수: 90\n",
      "세 번째 수: 80\n",
      "평균 = 90.0\n"
     ]
    }
   ],
   "source": [
    "x=int(input('첫 번째 수: '))\n",
    "y=int(input('두 번째 수: '))\n",
    "z=int(input('세 번째 수: '))\n",
    "avg = (x + y + z) / 3\n",
    "print(\"평균 =\", avg)"
   ]
  },
  {
   "cell_type": "code",
   "execution_count": null,
   "id": "c92230b2",
   "metadata": {},
   "outputs": [],
   "source": [
    "#다항식 계산"
   ]
  },
  {
   "cell_type": "code",
   "execution_count": 37,
   "id": "6b67ef07",
   "metadata": {},
   "outputs": [],
   "source": [
    "x=-1\n",
    "y=3"
   ]
  },
  {
   "cell_type": "code",
   "execution_count": 42,
   "id": "d20fe985",
   "metadata": {},
   "outputs": [
    {
     "name": "stdout",
     "output_type": "stream",
     "text": [
      "-21\n",
      "-21\n"
     ]
    }
   ],
   "source": [
    "result = (-y)**3+2*(x**2)*y\n",
    "print(result)"
   ]
  },
  {
   "cell_type": "code",
   "execution_count": 44,
   "id": "0d435b80",
   "metadata": {},
   "outputs": [
    {
     "name": "stdout",
     "output_type": "stream",
     "text": [
      "다항식의 계산 결과: -21\n"
     ]
    }
   ],
   "source": [
    "print(\"다항식의 계산 결과:\", result)"
   ]
  },
  {
   "cell_type": "code",
   "execution_count": 46,
   "id": "6da4f24a",
   "metadata": {},
   "outputs": [],
   "source": [
    "#화씨온도 섭씨온도로 바꾸기"
   ]
  },
  {
   "cell_type": "code",
   "execution_count": 55,
   "id": "f9008405",
   "metadata": {},
   "outputs": [
    {
     "name": "stdout",
     "output_type": "stream",
     "text": [
      "화씨온도: 100\n",
      "섭씨온도:  37.77777777777778\n"
     ]
    }
   ],
   "source": [
    "ftemp = int(input(\"화씨온도: \"))\n",
    "ctemp = (ftemp-32)*(5/9)\n",
    "print(\"섭씨온도: \", ctemp)"
   ]
  },
  {
   "cell_type": "code",
   "execution_count": 51,
   "id": "fd686556",
   "metadata": {},
   "outputs": [],
   "source": [
    "#두 점 사이의 거리 구하기"
   ]
  },
  {
   "cell_type": "code",
   "execution_count": 57,
   "id": "716fb0c3",
   "metadata": {},
   "outputs": [
    {
     "name": "stdout",
     "output_type": "stream",
     "text": [
      "x1: 0\n",
      "y1: 0\n",
      "x2: 100\n",
      "y2: 100\n",
      "141.4213562373095\n"
     ]
    }
   ],
   "source": [
    "x1= int(input(\"x1: \"))\n",
    "y1= int(input(\"y1: \"))\n",
    "x2= int(input(\"x2: \"))\n",
    "y2= int(input(\"y2: \"))\n",
    "print(((x2-x1)**2+(y2-y1)**2)**(1/2))"
   ]
  },
  {
   "cell_type": "code",
   "execution_count": 58,
   "id": "4c7496d2",
   "metadata": {},
   "outputs": [],
   "source": [
    "#두 점 사이의 거리 확인하기"
   ]
  },
  {
   "cell_type": "code",
   "execution_count": 64,
   "id": "d59a02ab",
   "metadata": {},
   "outputs": [],
   "source": [
    "import turtle\n",
    "t=turtle.Turtle()\n",
    "t.shape(\"turtle\")\n",
    "t.color(\"green\")\n",
    "#터틀 그래픽 사용할 준비 작업"
   ]
  },
  {
   "cell_type": "code",
   "execution_count": 65,
   "id": "77f2ac07",
   "metadata": {},
   "outputs": [],
   "source": [
    "t.setheading(45)\n",
    "t.forward(141.4)\n",
    "#터틀을 좌표(0, 0)에서 45도 회전하여 141.4 거리만큼 이동"
   ]
  },
  {
   "cell_type": "code",
   "execution_count": 67,
   "id": "37858b14",
   "metadata": {},
   "outputs": [],
   "source": [
    "t.up\n",
    "t.goto(100, 100)\n",
    "#터틀을 좌표(0, 0)에서 x축으로 100, y축으로 100 이동하여 점 (100, 100)으로 이동\n",
    "#두 선이 만나는 지 확인"
   ]
  },
  {
   "cell_type": "code",
   "execution_count": null,
   "id": "c5d3447c",
   "metadata": {},
   "outputs": [],
   "source": []
  }
 ],
 "metadata": {
  "kernelspec": {
   "display_name": "Python 3",
   "language": "python",
   "name": "python3"
  },
  "language_info": {
   "codemirror_mode": {
    "name": "ipython",
    "version": 3
   },
   "file_extension": ".py",
   "mimetype": "text/x-python",
   "name": "python",
   "nbconvert_exporter": "python",
   "pygments_lexer": "ipython3",
   "version": "3.8.8"
  }
 },
 "nbformat": 4,
 "nbformat_minor": 5
}
