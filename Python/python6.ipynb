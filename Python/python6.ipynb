{
 "cells": [
  {
   "cell_type": "code",
   "execution_count": 4,
   "id": "cb567119",
   "metadata": {},
   "outputs": [
    {
     "name": "stdout",
     "output_type": "stream",
     "text": [
      "1 1 1 1 1 "
     ]
    }
   ],
   "source": [
    "#반복문\n",
    "#range()\n",
    "for i in range(1, 6, 1):\n",
    "    print(1, end=\" \")"
   ]
  },
  {
   "cell_type": "code",
   "execution_count": 6,
   "id": "41d79837",
   "metadata": {},
   "outputs": [],
   "source": [
    "for i in range(10, 0 -1):\n",
    "    print(i, end=\" \")"
   ]
  },
  {
   "cell_type": "code",
   "execution_count": 7,
   "id": "376cab96",
   "metadata": {},
   "outputs": [
    {
     "name": "stdout",
     "output_type": "stream",
     "text": [
      "1부터 100까지의 합은 5050 입니다.\n"
     ]
    }
   ],
   "source": [
    "sum=0\n",
    "for i in range(1, 101):\n",
    "    sum += i\n",
    "print(\"1부터 100까지의 합은\",sum,\"입니다.\")"
   ]
  },
  {
   "cell_type": "code",
   "execution_count": 8,
   "id": "4b39717f",
   "metadata": {},
   "outputs": [
    {
     "name": "stdout",
     "output_type": "stream",
     "text": [
      "정수를 입력하시오: 31\n",
      "31 !은  8222838654177922817725562880000000 이다.\n"
     ]
    }
   ],
   "source": [
    "n=int(input(\"정수를 입력하시오: \"))\n",
    "fact=1\n",
    "for a in range(1,n+1):\n",
    "    fact=fact*a\n",
    "print(n,\"!은 \",fact,\"이다.\")"
   ]
  },
  {
   "cell_type": "code",
   "execution_count": 9,
   "id": "e9b3ca8c",
   "metadata": {},
   "outputs": [
    {
     "name": "stdout",
     "output_type": "stream",
     "text": [
      "1부터 100까지의 합은 5050 입니다.\n"
     ]
    }
   ],
   "source": [
    "#while\n",
    "count=1\n",
    "sum=0\n",
    "while count <= 100:\n",
    "    sum = sum + count\n",
    "    count = count + 1\n",
    "print(\"1부터 100까지의 합은\",sum,\"입니다.\")"
   ]
  },
  {
   "cell_type": "code",
   "execution_count": 10,
   "id": "62ac225c",
   "metadata": {},
   "outputs": [
    {
     "name": "stdout",
     "output_type": "stream",
     "text": [
      "암호를 입력하시오:ㄴㅇㅁㄹ\n",
      "암호를 입력하시오:pythonisfun\n",
      "로그인 성공\n"
     ]
    }
   ],
   "source": [
    "password=\"\"\n",
    "while password!=\"pythonisfun\":\n",
    "    password = input(\"암호를 입력하시오:\")\n",
    "print(\"로그인 성공\")"
   ]
  },
  {
   "cell_type": "code",
   "execution_count": 11,
   "id": "7b04fdb3",
   "metadata": {},
   "outputs": [
    {
     "name": "stdout",
     "output_type": "stream",
     "text": [
      "* * * * * * * * * * \n",
      "* * * * * * * * * * \n",
      "* * * * * * * * * * \n",
      "* * * * * * * * * * \n",
      "* * * * * * * * * * \n"
     ]
    }
   ],
   "source": [
    "for i in range(5):\n",
    "    for j in range(10):\n",
    "        print(\"*\",end=\" \")\n",
    "    print(\"\")"
   ]
  },
  {
   "cell_type": "code",
   "execution_count": 12,
   "id": "55248bd2",
   "metadata": {},
   "outputs": [
    {
     "name": "stdout",
     "output_type": "stream",
     "text": [
      "*\n",
      "**\n",
      "***\n",
      "****\n",
      "*****\n"
     ]
    }
   ],
   "source": [
    "for i in range(1,6):\n",
    "    for j in range(1,i+1):\n",
    "        print(\"*\",end=\"\")\n",
    "    print(\"\")"
   ]
  },
  {
   "cell_type": "code",
   "execution_count": 13,
   "id": "e2d45293",
   "metadata": {},
   "outputs": [
    {
     "name": "stdout",
     "output_type": "stream",
     "text": [
      "신호등 색상을 입력하시오: ㄱㄷㅇ\n",
      "신호등 색상을 입력하시오: red\n",
      "신호등 색상을 입력하시오: red\n",
      "신호등 색상을 입력하시오: blue\n",
      "전진!!\n"
     ]
    }
   ],
   "source": [
    "sign = True\n",
    "while sign:\n",
    "    light = input(\"신호등 색상을 입력하시오: \")\n",
    "    if light =='blue':\n",
    "        sign = False\n",
    "        \n",
    "print('전진!!')"
   ]
  },
  {
   "cell_type": "code",
   "execution_count": 14,
   "id": "356f7dc8",
   "metadata": {},
   "outputs": [
    {
     "name": "stdout",
     "output_type": "stream",
     "text": [
      "신호등 색상을 입력하시오: blue\n",
      "전진!!\n"
     ]
    }
   ],
   "source": [
    "#break: 강제로 반복 중지\n",
    "while True:\n",
    "    light = input(\"신호등 색상을 입력하시오: \")\n",
    "    if light =='blue':\n",
    "        break\n",
    "print(\"전진!!\")"
   ]
  },
  {
   "cell_type": "code",
   "execution_count": 15,
   "id": "f6d675e2",
   "metadata": {},
   "outputs": [
    {
     "name": "stdout",
     "output_type": "stream",
     "text": [
      "1\n",
      "3\n",
      "5\n",
      "7\n",
      "9\n"
     ]
    }
   ],
   "source": [
    "#continue: 해당 차례를 건너 뛰고 새롭게 다음 차례의 반복을 수행\n",
    "for n in range(10):\n",
    "    if n%2 == 0:\n",
    "        continue\n",
    "    print(n)"
   ]
  },
  {
   "cell_type": "code",
   "execution_count": null,
   "id": "0ae11176",
   "metadata": {},
   "outputs": [],
   "source": [
    "#숫자 맞추기 게임"
   ]
  },
  {
   "cell_type": "code",
   "execution_count": 18,
   "id": "8a651302",
   "metadata": {},
   "outputs": [],
   "source": [
    "import random"
   ]
  },
  {
   "cell_type": "code",
   "execution_count": 30,
   "id": "2dc40e5c",
   "metadata": {},
   "outputs": [],
   "source": [
    "tries = 1\t\t# 게임 시도 횟수를 저장합니다.\n",
    "guess = 0\t\t# 사용자가 입력한 수를 저장합니다.\n",
    "answer = random.randint(1, 100)"
   ]
  },
  {
   "cell_type": "code",
   "execution_count": 31,
   "id": "2b8ac1d0",
   "metadata": {},
   "outputs": [
    {
     "name": "stdout",
     "output_type": "stream",
     "text": [
      "1부터 100 사이의 숫자를 맞추시오\n",
      "숫자를 입력하시오: 33\n"
     ]
    }
   ],
   "source": [
    "print(\"1부터 100 사이의 숫자를 맞추시오\")\n",
    "guess = int(input(\"숫자를 입력하시오: \"))\n",
    "c=0"
   ]
  },
  {
   "cell_type": "code",
   "execution_count": 32,
   "id": "bc655818",
   "metadata": {},
   "outputs": [
    {
     "name": "stdout",
     "output_type": "stream",
     "text": [
      "숫자를 입력하시오: 44\n",
      "낮음!\n",
      "숫자를 입력하시오: 11\n",
      "낮음!\n",
      "숫자를 입력하시오: 22\n",
      "낮음!\n",
      "숫자를 입력하시오: 6\n",
      "낮음!\n",
      "숫자를 입력하시오: 878\n",
      "높음!\n",
      "숫자를 입력하시오: 33\n",
      "낮음!\n",
      "숫자를 입력하시오: 98\n",
      "높음!\n",
      "숫자를 입력하시오: 44\n",
      "낮음!\n",
      "숫자를 입력하시오: 66\n",
      "낮음!\n",
      "숫자를 입력하시오: 88\n",
      "높음!\n",
      "숫자를 입력하시오: 77\n",
      "축하합니다. 시도횟수=\n"
     ]
    }
   ],
   "source": [
    "while True:\n",
    "    guess = int(input(\"숫자를 입력하시오: \"))\n",
    "    if answer > guess:\n",
    "        print(\"낮음!\")\n",
    "        c += 1\n",
    "    elif answer < guess:\n",
    "        print(\"높음!\")\n",
    "        c += 1\n",
    "    else :\n",
    "        print(\"축하합니다. 시도횟수=\")\n",
    "        break"
   ]
  },
  {
   "cell_type": "code",
   "execution_count": null,
   "id": "9bae2cdb",
   "metadata": {},
   "outputs": [],
   "source": [
    "#강사님\n",
    "import random"
   ]
  },
  {
   "cell_type": "code",
   "execution_count": null,
   "id": "9814aea5",
   "metadata": {},
   "outputs": [],
   "source": [
    "tries = 1\t\t# 게임 시도 횟수를 저장합니다.\n",
    "guess = 0\t\t# 사용자가 입력한 수를 저장합니다.\n",
    "answer = random.randint(1, 100)"
   ]
  },
  {
   "cell_type": "code",
   "execution_count": null,
   "id": "c9bff41b",
   "metadata": {},
   "outputs": [],
   "source": [
    "print(\"1부터 100 사이의 숫자를 맞추시오\")\n",
    "guess = int(input(\"숫자를 입력하시오: \"))"
   ]
  },
  {
   "cell_type": "code",
   "execution_count": null,
   "id": "58fd4238",
   "metadata": {},
   "outputs": [],
   "source": [
    "while guess != answer:\n",
    "   tries = tries + 1\n",
    "   if guess < answer:\n",
    "       print(\"낮음!\")\n",
    "   elif guess > answer:\n",
    "       print(\"높음!\")\n",
    "       \n",
    "   guess = int(input(\"숫자를 입력하시오: \"))\n",
    "\n",
    "if guess == answer:\n",
    "    print(\"축하합니다. 시도횟수=\", tries)"
   ]
  }
 ],
 "metadata": {
  "kernelspec": {
   "display_name": "Python 3",
   "language": "python",
   "name": "python3"
  },
  "language_info": {
   "codemirror_mode": {
    "name": "ipython",
    "version": 3
   },
   "file_extension": ".py",
   "mimetype": "text/x-python",
   "name": "python",
   "nbconvert_exporter": "python",
   "pygments_lexer": "ipython3",
   "version": "3.8.8"
  }
 },
 "nbformat": 4,
 "nbformat_minor": 5
}
