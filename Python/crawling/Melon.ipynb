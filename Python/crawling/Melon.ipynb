{
 "cells": [
  {
   "cell_type": "code",
   "execution_count": 4,
   "metadata": {
    "collapsed": true
   },
   "outputs": [
    {
     "name": "stdout",
     "output_type": "stream",
     "text": [
      "Requirement already satisfied: selenium in d:\\workspace\\gongboo\\python\\venv\\lib\\site-packages (3.141.0)\n",
      "Requirement already satisfied: urllib3 in d:\\workspace\\gongboo\\python\\venv\\lib\\site-packages (from selenium) (1.26.6)\n"
     ]
    },
    {
     "name": "stderr",
     "output_type": "stream",
     "text": [
      "WARNING: You are using pip version 21.1.2; however, version 21.2.4 is available.\n",
      "You should consider upgrading via the 'D:\\workspace\\Gongboo\\Python\\venv\\Scripts\\python.exe -m pip install --upgrade pip' command.\n"
     ]
    },
    {
     "name": "stdout",
     "output_type": "stream",
     "text": [
      "Collecting BeautifulSoup4\n",
      "  Downloading beautifulsoup4-4.9.3-py3-none-any.whl (115 kB)\n",
      "Collecting soupsieve>1.2\n",
      "  Downloading soupsieve-2.2.1-py3-none-any.whl (33 kB)\n",
      "Installing collected packages: soupsieve, BeautifulSoup4\n",
      "Successfully installed BeautifulSoup4-4.9.3 soupsieve-2.2.1\n"
     ]
    },
    {
     "name": "stderr",
     "output_type": "stream",
     "text": [
      "WARNING: You are using pip version 21.1.2; however, version 21.2.4 is available.\n",
      "You should consider upgrading via the 'D:\\workspace\\Gongboo\\Python\\venv\\Scripts\\python.exe -m pip install --upgrade pip' command.\n"
     ]
    }
   ],
   "source": [
    "!pip install selenium\n",
    "!pip install BeautifulSoup4\n",
    "!pip install pandas\n",
    "!pip install openpyxl"
   ]
  },
  {
   "cell_type": "code",
   "execution_count": 24,
   "outputs": [],
   "source": [
    "from selenium import webdriver\n",
    "from bs4 import BeautifulSoup\n",
    "driver = webdriver.Chrome('chromedriver.exe')"
   ],
   "metadata": {
    "collapsed": false,
    "pycharm": {
     "name": "#%% 멜론 사이트 접속\n"
    }
   }
  },
  {
   "cell_type": "code",
   "execution_count": 26,
   "outputs": [],
   "source": [
    "url = \"https://www.melon.com/chart/index.htm\"\n",
    "driver.get(url)\n",
    "\n",
    "html = driver.page_source\n",
    "soup = BeautifulSoup(html, 'html.parser')"
   ],
   "metadata": {
    "collapsed": false,
    "pycharm": {
     "name": "#%%\n"
    }
   }
  },
  {
   "cell_type": "code",
   "execution_count": 27,
   "outputs": [],
   "source": [
    "song_data = []\n",
    "rank = 1\n",
    "songs = soup.select('table > tbody > tr')\n",
    "for song in songs:\n",
    "    title = song.select('div.rank01 > span > a')[0].text\n",
    "    singer = song.select('div.rank02 > a')[0].text\n",
    "    song_data.append(['Melon', rank, title, singer])\n",
    "    rank = rank + 1"
   ],
   "metadata": {
    "collapsed": false,
    "pycharm": {
     "name": "#%% 반복문으로 곡과 가수명 song_data에 저장\n"
    }
   }
  },
  {
   "cell_type": "code",
   "execution_count": 28,
   "outputs": [
    {
     "data": {
      "text/plain": "     서비스  순위         타이틀             가수\n0  Melon   1        STAY  The Kid LAROI\n1  Melon   2         신호등            이무진\n2  Melon   3  Next Level          aespa\n3  Melon   4      바라만 본다  MSG워너비(M.O.M)\n4  Melon   5     Weekend   태연 (TAEYEON)",
      "text/html": "<div>\n<style scoped>\n    .dataframe tbody tr th:only-of-type {\n        vertical-align: middle;\n    }\n\n    .dataframe tbody tr th {\n        vertical-align: top;\n    }\n\n    .dataframe thead th {\n        text-align: right;\n    }\n</style>\n<table border=\"1\" class=\"dataframe\">\n  <thead>\n    <tr style=\"text-align: right;\">\n      <th></th>\n      <th>서비스</th>\n      <th>순위</th>\n      <th>타이틀</th>\n      <th>가수</th>\n    </tr>\n  </thead>\n  <tbody>\n    <tr>\n      <th>0</th>\n      <td>Melon</td>\n      <td>1</td>\n      <td>STAY</td>\n      <td>The Kid LAROI</td>\n    </tr>\n    <tr>\n      <th>1</th>\n      <td>Melon</td>\n      <td>2</td>\n      <td>신호등</td>\n      <td>이무진</td>\n    </tr>\n    <tr>\n      <th>2</th>\n      <td>Melon</td>\n      <td>3</td>\n      <td>Next Level</td>\n      <td>aespa</td>\n    </tr>\n    <tr>\n      <th>3</th>\n      <td>Melon</td>\n      <td>4</td>\n      <td>바라만 본다</td>\n      <td>MSG워너비(M.O.M)</td>\n    </tr>\n    <tr>\n      <th>4</th>\n      <td>Melon</td>\n      <td>5</td>\n      <td>Weekend</td>\n      <td>태연 (TAEYEON)</td>\n    </tr>\n  </tbody>\n</table>\n</div>"
     },
     "execution_count": 28,
     "metadata": {},
     "output_type": "execute_result"
    }
   ],
   "source": [
    "import pandas as pd\n",
    "columns = ['서비스', '순위', '타이틀', '가수']\n",
    "pd_data = pd.DataFrame(song_data, columns = columns)\n",
    "pd_data.head()\n"
   ],
   "metadata": {
    "collapsed": false,
    "pycharm": {
     "name": "#%% song_data 리스트를 이용해 데이터 프레임 만들기\n"
    }
   }
  },
  {
   "cell_type": "code",
   "execution_count": 29,
   "outputs": [],
   "source": [
    "pd_data.to_excel('melon.xlsx', index=False, engine='openpyxl')"
   ],
   "metadata": {
    "collapsed": false,
    "pycharm": {
     "name": "#%% openpyxl package 설치하고 크롤링 결과 엑셜파일로 저장\n"
    }
   }
  },
  {
   "cell_type": "code",
   "execution_count": 21,
   "outputs": [
    {
     "data": {
      "text/plain": "'D:\\\\workspace\\\\Gongboo\\\\Python\\\\crawling'"
     },
     "execution_count": 21,
     "metadata": {},
     "output_type": "execute_result"
    }
   ],
   "source": [
    "import os\n",
    "os.getcwd()"
   ],
   "metadata": {
    "collapsed": false,
    "pycharm": {
     "name": "#%%\n"
    }
   }
  }
 ],
 "metadata": {
  "kernelspec": {
   "display_name": "Python 3",
   "language": "python",
   "name": "python3"
  },
  "language_info": {
   "codemirror_mode": {
    "name": "ipython",
    "version": 2
   },
   "file_extension": ".py",
   "mimetype": "text/x-python",
   "name": "python",
   "nbconvert_exporter": "python",
   "pygments_lexer": "ipython2",
   "version": "2.7.6"
  }
 },
 "nbformat": 4,
 "nbformat_minor": 0
}