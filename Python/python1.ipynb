{
 "cells": [
  {
   "cell_type": "code",
   "execution_count": null,
   "id": "db3ec4ef",
   "metadata": {},
   "outputs": [],
   "source": [
    "import turtle"
   ]
  },
  {
   "cell_type": "code",
   "execution_count": null,
   "id": "20fd7eaf",
   "metadata": {},
   "outputs": [],
   "source": [
    "t=turtle.Turtle()"
   ]
  },
  {
   "cell_type": "code",
   "execution_count": null,
   "id": "05b0aa03",
   "metadata": {},
   "outputs": [],
   "source": [
    "t.shape(\"turtle\")"
   ]
  },
  {
   "cell_type": "code",
   "execution_count": 4,
   "id": "717dbc59",
   "metadata": {},
   "outputs": [],
   "source": [
    "t.forward(100)"
   ]
  },
  {
   "cell_type": "code",
   "execution_count": 9,
   "id": "855fade3",
   "metadata": {},
   "outputs": [],
   "source": [
    "t.left(90)"
   ]
  },
  {
   "cell_type": "code",
   "execution_count": 10,
   "id": "5b76b0e2",
   "metadata": {},
   "outputs": [],
   "source": [
    "t.forward(50)"
   ]
  },
  {
   "cell_type": "code",
   "execution_count": 11,
   "id": "fed99a8e",
   "metadata": {},
   "outputs": [],
   "source": [
    "t.right(90)"
   ]
  },
  {
   "cell_type": "code",
   "execution_count": 12,
   "id": "1e300ff5",
   "metadata": {},
   "outputs": [],
   "source": [
    "t.forward(100)"
   ]
  },
  {
   "cell_type": "code",
   "execution_count": 13,
   "id": "dc36589f",
   "metadata": {},
   "outputs": [],
   "source": [
    "t.right(50)"
   ]
  },
  {
   "cell_type": "code",
   "execution_count": 14,
   "id": "a7f02328",
   "metadata": {},
   "outputs": [],
   "source": [
    "t.right(60)"
   ]
  },
  {
   "cell_type": "code",
   "execution_count": 15,
   "id": "9cbb11f4",
   "metadata": {},
   "outputs": [],
   "source": [
    "t.forward(80)"
   ]
  },
  {
   "cell_type": "code",
   "execution_count": 17,
   "id": "07ffba1b",
   "metadata": {},
   "outputs": [],
   "source": [
    "t.forward(100)"
   ]
  },
  {
   "cell_type": "code",
   "execution_count": 19,
   "id": "c835bc54",
   "metadata": {},
   "outputs": [],
   "source": [
    "t.left(120)"
   ]
  },
  {
   "cell_type": "code",
   "execution_count": 20,
   "id": "9ad3ecb6",
   "metadata": {},
   "outputs": [],
   "source": [
    "t.forward(100)"
   ]
  },
  {
   "cell_type": "code",
   "execution_count": 22,
   "id": "8828f32c",
   "metadata": {},
   "outputs": [],
   "source": [
    "t.left(120)"
   ]
  },
  {
   "cell_type": "code",
   "execution_count": 23,
   "id": "c0436c35",
   "metadata": {},
   "outputs": [],
   "source": [
    "t.forward(100)"
   ]
  },
  {
   "cell_type": "code",
   "execution_count": 24,
   "id": "fa5a4583",
   "metadata": {},
   "outputs": [],
   "source": [
    "#외않되"
   ]
  },
  {
   "cell_type": "code",
   "execution_count": 25,
   "id": "fe6a0dfd",
   "metadata": {},
   "outputs": [
    {
     "name": "stdout",
     "output_type": "stream",
     "text": [
      "개에바다\n"
     ]
    }
   ],
   "source": [
    "print(\"외않되\") #외않되"
   ]
  },
  {
   "cell_type": "code",
   "execution_count": 26,
   "id": "5466f856",
   "metadata": {},
   "outputs": [
    {
     "ename": "TypeError",
     "evalue": "can only concatenate str (not \"int\") to str",
     "output_type": "error",
     "traceback": [
      "\u001b[1;31m---------------------------------------------------------------------------\u001b[0m",
      "\u001b[1;31mTypeError\u001b[0m                                 Traceback (most recent call last)",
      "\u001b[1;32m<ipython-input-26-4bbbe34e52d7>\u001b[0m in \u001b[0;36m<module>\u001b[1;34m\u001b[0m\n\u001b[1;32m----> 1\u001b[1;33m \u001b[0mprint\u001b[0m\u001b[1;33m(\u001b[0m\u001b[1;34m\"안녕!\"\u001b[0m\u001b[1;33m+\u001b[0m\u001b[1;36m3\u001b[0m\u001b[1;33m)\u001b[0m\u001b[1;33m\u001b[0m\u001b[1;33m\u001b[0m\u001b[0m\n\u001b[0m",
      "\u001b[1;31mTypeError\u001b[0m: can only concatenate str (not \"int\") to str"
     ]
    }
   ],
   "source": [
    "print(\"안녕!\"+3)"
   ]
  },
  {
   "cell_type": "code",
   "execution_count": 27,
   "id": "9a7f3450",
   "metadata": {},
   "outputs": [
    {
     "name": "stdout",
     "output_type": "stream",
     "text": [
      "안녕!안녕!안녕!\n"
     ]
    }
   ],
   "source": [
    "print(\"안녕!\"*3)"
   ]
  },
  {
   "cell_type": "code",
   "execution_count": 1,
   "id": "741aea34",
   "metadata": {},
   "outputs": [],
   "source": [
    "import turtle"
   ]
  },
  {
   "cell_type": "code",
   "execution_count": 2,
   "id": "67197790",
   "metadata": {},
   "outputs": [],
   "source": [
    "colors = [\"red\", \"purple\", \"blue\", \"green\", \"yellow\", \"orange\"]"
   ]
  },
  {
   "cell_type": "code",
   "execution_count": 3,
   "id": "284ad6d7",
   "metadata": {},
   "outputs": [],
   "source": [
    "t = turtle.Turtle()"
   ]
  },
  {
   "cell_type": "code",
   "execution_count": 4,
   "id": "4ba5dd5f",
   "metadata": {},
   "outputs": [],
   "source": [
    "turtle.bgcolor(\"black\")"
   ]
  },
  {
   "cell_type": "code",
   "execution_count": 5,
   "id": "81a861e5",
   "metadata": {},
   "outputs": [],
   "source": [
    "t.speed(0)"
   ]
  },
  {
   "cell_type": "code",
   "execution_count": 6,
   "id": "ee3e2baf",
   "metadata": {},
   "outputs": [],
   "source": [
    "t.width(3)"
   ]
  },
  {
   "cell_type": "code",
   "execution_count": 7,
   "id": "b3f7472c",
   "metadata": {},
   "outputs": [],
   "source": [
    "length=10"
   ]
  },
  {
   "cell_type": "code",
   "execution_count": 9,
   "id": "d40ba7db",
   "metadata": {},
   "outputs": [],
   "source": [
    "while length < 500:\n",
    "    t.forward(length)\n",
    "    t.pencolor(colors[length%6])\n",
    "    t.right(89)\n",
    "    length += 5"
   ]
  },
  {
   "cell_type": "code",
   "execution_count": 10,
   "id": "a380fa43",
   "metadata": {},
   "outputs": [
    {
     "name": "stdout",
     "output_type": "stream",
     "text": [
      "시간순삭 파이썬\n"
     ]
    }
   ],
   "source": [
    "print(\"시간순삭 파이썬\")"
   ]
  },
  {
   "cell_type": "code",
   "execution_count": 15,
   "id": "b16a8abd",
   "metadata": {},
   "outputs": [],
   "source": [
    "a = 9*8"
   ]
  },
  {
   "cell_type": "code",
   "execution_count": 16,
   "id": "ac246cdc",
   "metadata": {},
   "outputs": [
    {
     "ename": "SyntaxError",
     "evalue": "Missing parentheses in call to 'print'. Did you mean print(a)? (<ipython-input-16-da1608c9d425>, line 1)",
     "output_type": "error",
     "traceback": [
      "\u001b[1;36m  File \u001b[1;32m\"<ipython-input-16-da1608c9d425>\"\u001b[1;36m, line \u001b[1;32m1\u001b[0m\n\u001b[1;33m    print a\u001b[0m\n\u001b[1;37m          ^\u001b[0m\n\u001b[1;31mSyntaxError\u001b[0m\u001b[1;31m:\u001b[0m Missing parentheses in call to 'print'. Did you mean print(a)?\n"
     ]
    }
   ],
   "source": [
    "print a"
   ]
  },
  {
   "cell_type": "code",
   "execution_count": 17,
   "id": "a54ec41a",
   "metadata": {},
   "outputs": [
    {
     "name": "stdout",
     "output_type": "stream",
     "text": [
      "72\n"
     ]
    }
   ],
   "source": [
    "print(a)"
   ]
  },
  {
   "cell_type": "code",
   "execution_count": 19,
   "id": "0d85e30c",
   "metadata": {},
   "outputs": [
    {
     "name": "stdout",
     "output_type": "stream",
     "text": [
      "9*8은  72 입니다.\n"
     ]
    }
   ],
   "source": [
    "print(\"9*8은 \" , a , \"입니다.\")"
   ]
  },
  {
   "cell_type": "code",
   "execution_count": 1,
   "id": "bba20b26",
   "metadata": {},
   "outputs": [],
   "source": [
    "import turtle"
   ]
  },
  {
   "cell_type": "code",
   "execution_count": 5,
   "id": "b7bece62",
   "metadata": {},
   "outputs": [],
   "source": [
    "t=turtle.Turtle()"
   ]
  },
  {
   "cell_type": "code",
   "execution_count": 6,
   "id": "ba549883",
   "metadata": {},
   "outputs": [],
   "source": [
    "t.shape(\"turtle\")"
   ]
  },
  {
   "cell_type": "code",
   "execution_count": 7,
   "id": "13980836",
   "metadata": {},
   "outputs": [],
   "source": [
    "t.circle(100)"
   ]
  },
  {
   "cell_type": "code",
   "execution_count": 8,
   "id": "007fad26",
   "metadata": {},
   "outputs": [],
   "source": [
    "t=turtle.Turtle()"
   ]
  },
  {
   "cell_type": "code",
   "execution_count": 20,
   "id": "3bbb8dc2",
   "metadata": {},
   "outputs": [],
   "source": [
    "t.forward(100)"
   ]
  },
  {
   "cell_type": "code",
   "execution_count": 19,
   "id": "012b878f",
   "metadata": {},
   "outputs": [],
   "source": [
    "t.left(60)"
   ]
  },
  {
   "cell_type": "code",
   "execution_count": 21,
   "id": "db487f92",
   "metadata": {},
   "outputs": [],
   "source": [
    "t.width(10)"
   ]
  },
  {
   "cell_type": "code",
   "execution_count": 22,
   "id": "ce84370b",
   "metadata": {},
   "outputs": [],
   "source": [
    "t.forward(100)"
   ]
  },
  {
   "cell_type": "code",
   "execution_count": 32,
   "id": "42790348",
   "metadata": {},
   "outputs": [],
   "source": [
    "t.left(90)"
   ]
  },
  {
   "cell_type": "code",
   "execution_count": 33,
   "id": "0f9b3023",
   "metadata": {},
   "outputs": [],
   "source": [
    "t.forward(100)"
   ]
  },
  {
   "cell_type": "code",
   "execution_count": 26,
   "id": "0b3cb75f",
   "metadata": {},
   "outputs": [],
   "source": [
    "t.color(\"blue\")"
   ]
  },
  {
   "cell_type": "code",
   "execution_count": 35,
   "id": "6244d90f",
   "metadata": {},
   "outputs": [],
   "source": [
    "t.shape(\"square\")"
   ]
  },
  {
   "cell_type": "code",
   "execution_count": 38,
   "id": "609bb357",
   "metadata": {},
   "outputs": [],
   "source": [
    "t.down()"
   ]
  },
  {
   "cell_type": "code",
   "execution_count": 39,
   "id": "8c949248",
   "metadata": {},
   "outputs": [],
   "source": [
    "t.goto(100, 0)"
   ]
  },
  {
   "cell_type": "code",
   "execution_count": 40,
   "id": "321b49e6",
   "metadata": {},
   "outputs": [],
   "source": [
    "t.shape(\"turtle\")"
   ]
  },
  {
   "cell_type": "code",
   "execution_count": 51,
   "id": "8b6b61a5",
   "metadata": {},
   "outputs": [],
   "source": [
    "t.goto(0, 200)"
   ]
  },
  {
   "cell_type": "code",
   "execution_count": 47,
   "id": "c3a09295",
   "metadata": {},
   "outputs": [],
   "source": [
    "t.down()"
   ]
  },
  {
   "cell_type": "code",
   "execution_count": 50,
   "id": "e4700ed3",
   "metadata": {},
   "outputs": [],
   "source": [
    "t.goto(100, 200)"
   ]
  },
  {
   "cell_type": "code",
   "execution_count": 45,
   "id": "43ab998d",
   "metadata": {},
   "outputs": [],
   "source": [
    "t.color(\"red\")"
   ]
  },
  {
   "cell_type": "code",
   "execution_count": 52,
   "id": "2746e85e",
   "metadata": {},
   "outputs": [],
   "source": [
    "t.up()"
   ]
  },
  {
   "cell_type": "code",
   "execution_count": 56,
   "id": "bb717d29",
   "metadata": {},
   "outputs": [],
   "source": [
    "t.goto(300, 400)"
   ]
  },
  {
   "cell_type": "code",
   "execution_count": 57,
   "id": "9b54c03a",
   "metadata": {},
   "outputs": [],
   "source": [
    "t.goto(100, 200)"
   ]
  },
  {
   "cell_type": "code",
   "execution_count": 55,
   "id": "38ffadec",
   "metadata": {},
   "outputs": [],
   "source": [
    "t.down()"
   ]
  },
  {
   "cell_type": "code",
   "execution_count": 1,
   "id": "ee232aea",
   "metadata": {},
   "outputs": [],
   "source": [
    "x=100"
   ]
  },
  {
   "cell_type": "code",
   "execution_count": 2,
   "id": "eda2e761",
   "metadata": {},
   "outputs": [
    {
     "name": "stdout",
     "output_type": "stream",
     "text": [
      "100\n"
     ]
    }
   ],
   "source": [
    "print(x)"
   ]
  },
  {
   "cell_type": "code",
   "execution_count": 4,
   "id": "97d62d7d",
   "metadata": {},
   "outputs": [],
   "source": [
    "x=200"
   ]
  },
  {
   "cell_type": "code",
   "execution_count": 5,
   "id": "6d43d2c6",
   "metadata": {},
   "outputs": [
    {
     "name": "stdout",
     "output_type": "stream",
     "text": [
      "200\n"
     ]
    }
   ],
   "source": [
    "print(x)"
   ]
  },
  {
   "cell_type": "code",
   "execution_count": 8,
   "id": "ecc3b0ec",
   "metadata": {},
   "outputs": [],
   "source": [
    "name1 = \"홍길동\""
   ]
  },
  {
   "cell_type": "code",
   "execution_count": 9,
   "id": "38064498",
   "metadata": {},
   "outputs": [],
   "source": [
    "name2 = \"장경\""
   ]
  },
  {
   "cell_type": "code",
   "execution_count": 10,
   "id": "14c6823e",
   "metadata": {},
   "outputs": [
    {
     "name": "stdout",
     "output_type": "stream",
     "text": [
      "5\n"
     ]
    }
   ],
   "source": [
    "a = input()"
   ]
  },
  {
   "cell_type": "code",
   "execution_count": 11,
   "id": "6c4794fc",
   "metadata": {},
   "outputs": [
    {
     "name": "stdout",
     "output_type": "stream",
     "text": [
      "5\n"
     ]
    }
   ],
   "source": [
    "print(a)"
   ]
  },
  {
   "cell_type": "code",
   "execution_count": null,
   "id": "51cfc1a3",
   "metadata": {},
   "outputs": [],
   "source": [
    "a=input()"
   ]
  },
  {
   "cell_type": "code",
   "execution_count": null,
   "id": "b87a21eb",
   "metadata": {},
   "outputs": [],
   "source": [
    "print(a)"
   ]
  },
  {
   "cell_type": "code",
   "execution_count": null,
   "id": "1fe48b55",
   "metadata": {},
   "outputs": [],
   "source": [
    "x=int(input(\"첫번째정수를입력하시오:\"))"
   ]
  },
  {
   "cell_type": "code",
   "execution_count": null,
   "id": "2d7b9f6c",
   "metadata": {},
   "outputs": [],
   "source": [
    "y=int(input(\"두번째정수를 입력하시오\"))"
   ]
  },
  {
   "cell_type": "code",
   "execution_count": null,
   "id": "b8da5ae1",
   "metadata": {},
   "outputs": [],
   "source": [
    "sum = x + y"
   ]
  },
  {
   "cell_type": "code",
   "execution_count": null,
   "id": "f6600011",
   "metadata": {},
   "outputs": [],
   "source": [
    "print(x,\"와\", y, \"는\", sum)"
   ]
  }
 ],
 "metadata": {
  "kernelspec": {
   "display_name": "Python 3",
   "language": "python",
   "name": "python3"
  },
  "language_info": {
   "codemirror_mode": {
    "name": "ipython",
    "version": 3
   },
   "file_extension": ".py",
   "mimetype": "text/x-python",
   "name": "python",
   "nbconvert_exporter": "python",
   "pygments_lexer": "ipython3",
   "version": "3.8.8"
  }
 },
 "nbformat": 4,
 "nbformat_minor": 5
}
