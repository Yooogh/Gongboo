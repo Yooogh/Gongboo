{
 "cells": [
  {
   "cell_type": "code",
   "execution_count": 2,
   "id": "432cc66a",
   "metadata": {},
   "outputs": [],
   "source": [
    "import turtle"
   ]
  },
  {
   "cell_type": "code",
   "execution_count": 3,
   "id": "431cdfb9",
   "metadata": {},
   "outputs": [],
   "source": [
    "t=turtle.Turtle()"
   ]
  },
  {
   "cell_type": "code",
   "execution_count": 4,
   "id": "134b7eef",
   "metadata": {},
   "outputs": [],
   "source": [
    "t.shape(\"turtle\")"
   ]
  },
  {
   "cell_type": "code",
   "execution_count": 5,
   "id": "5f327c9e",
   "metadata": {},
   "outputs": [
    {
     "name": "stdout",
     "output_type": "stream",
     "text": [
      "원의 반지름을 입력하시오: 30\n"
     ]
    }
   ],
   "source": [
    "radius = int(input(\"원의 반지름을 입력하시오: \"))"
   ]
  },
  {
   "cell_type": "code",
   "execution_count": 6,
   "id": "3b2e4af7",
   "metadata": {},
   "outputs": [
    {
     "name": "stdout",
     "output_type": "stream",
     "text": [
      "원의 색깔을 입력하시오: red\n"
     ]
    }
   ],
   "source": [
    "color = input(\"원의 색깔을 입력하시오: \")"
   ]
  },
  {
   "cell_type": "code",
   "execution_count": 15,
   "id": "95ae2a12",
   "metadata": {},
   "outputs": [],
   "source": [
    "t.color(color)\n",
    "t.begin_fill()"
   ]
  },
  {
   "cell_type": "code",
   "execution_count": 16,
   "id": "e5400579",
   "metadata": {},
   "outputs": [],
   "source": [
    "t.circle(radius)\n",
    "t.end_fill()"
   ]
  },
  {
   "cell_type": "code",
   "execution_count": 20,
   "id": "5f9783c4",
   "metadata": {},
   "outputs": [
    {
     "name": "stdout",
     "output_type": "stream",
     "text": [
      "측정 시간(초) 입력:3\n"
     ]
    }
   ],
   "source": [
    "sec = int(input(\"측정 시간(초) 입력:\"))"
   ]
  },
  {
   "cell_type": "code",
   "execution_count": 22,
   "id": "af0e385b",
   "metadata": {},
   "outputs": [],
   "source": [
    "distance = sec * 340"
   ]
  },
  {
   "cell_type": "code",
   "execution_count": 23,
   "id": "5c9c3d19",
   "metadata": {},
   "outputs": [
    {
     "name": "stdout",
     "output_type": "stream",
     "text": [
      "1020\n"
     ]
    }
   ],
   "source": [
    "print(distance)"
   ]
  },
  {
   "cell_type": "code",
   "execution_count": 24,
   "id": "ffad6d2a",
   "metadata": {},
   "outputs": [
    {
     "name": "stdout",
     "output_type": "stream",
     "text": [
      "자신의 위치에서 번개가 친 장소까지의 거리= 1020 m\n"
     ]
    }
   ],
   "source": [
    "print(\"자신의 위치에서 번개가 친 장소까지의 거리=\", distance, \"m\")"
   ]
  },
  {
   "cell_type": "code",
   "execution_count": null,
   "id": "0bf5b99f",
   "metadata": {},
   "outputs": [],
   "source": []
  }
 ],
 "metadata": {
  "kernelspec": {
   "display_name": "Python 3",
   "language": "python",
   "name": "python3"
  },
  "language_info": {
   "codemirror_mode": {
    "name": "ipython",
    "version": 3
   },
   "file_extension": ".py",
   "mimetype": "text/x-python",
   "name": "python",
   "nbconvert_exporter": "python",
   "pygments_lexer": "ipython3",
   "version": "3.8.8"
  }
 },
 "nbformat": 4,
 "nbformat_minor": 5
}
