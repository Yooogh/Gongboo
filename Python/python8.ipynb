{
 "cells": [
  {
   "cell_type": "code",
   "execution_count": null,
   "id": "25d2b15e",
   "metadata": {},
   "outputs": [],
   "source": [
    "#함수\n",
    "#function 여러개의 명령을 하나의 단위로 묶은 것\n",
    "#class 코드 중에서 관련된 변수와 함수를 하나로 묶은 것\n",
    "#module 여러 개의 함수를 모아 놓은 것으로 프로그램 일부를 가지고 있는 독립적인 파일로 관리하는 것\n",
    "#모듈 > 클래스 > 함수\n",
    "\n",
    "#함수: 반복적으로 사용되는 의미 있는 부분(서브루틴, 루틴, 메서드, 프로시저)\n",
    "#함수를 만든다 = 함수를 정의한다\n",
    "    #def 키워드 사용 : 'def 함수명 (매개변수) :'\n",
    "#함수를 사용한다 = 함수를 호출한다\n",
    "    #인수 전달\n",
    "     #인수 argument : 호출 프로그램에 의하여 함수에 실제로 전달되는 값\n",
    "     #매개변수 parameter: 인수에 담아 함수 내에서 쓰이는 변수\n"
   ]
  },
  {
   "cell_type": "code",
   "execution_count": 1,
   "id": "06e0356b",
   "metadata": {},
   "outputs": [
    {
     "name": "stdout",
     "output_type": "stream",
     "text": [
      "sum= 55\n",
      "sum= 210\n"
     ]
    }
   ],
   "source": [
    "def get_sum(start, end):\n",
    "    sum=0\n",
    "    for i in range(start,end+1):\n",
    "        sum+=i\n",
    "    print(\"sum=\",sum)\n",
    "get_sum(1, 10)\n",
    "get_sum(1, 20)"
   ]
  },
  {
   "cell_type": "code",
   "execution_count": 4,
   "id": "c8d0363c",
   "metadata": {},
   "outputs": [
    {
     "name": "stdout",
     "output_type": "stream",
     "text": [
      "11\n",
      "60\n"
     ]
    }
   ],
   "source": [
    "#기본 매개변수(default parameter) : 인수를 넘겨주지 않아도 인수가 자신의 기본값을 갖도록 함\n",
    "def inc(a, step=1):\n",
    "    print(a+step)\n",
    "inc(10)\n",
    "inc(10, 50)"
   ]
  },
  {
   "cell_type": "code",
   "execution_count": 2,
   "id": "e6fe4bd1",
   "metadata": {},
   "outputs": [
    {
     "name": "stdout",
     "output_type": "stream",
     "text": [
      "2 , 3\n"
     ]
    }
   ],
   "source": [
    "#반환값return value : 함수로부터 되돌아오는 값\n",
    "def get_input():\n",
    "    return 2, 3\n",
    "x, y = get_input()\n",
    "print(x,\",\",y)"
   ]
  },
  {
   "cell_type": "code",
   "execution_count": 6,
   "id": "fb1d9bbe",
   "metadata": {},
   "outputs": [],
   "source": [
    "import turtle\n",
    "t=turtle.Turtle()\n",
    "t.shape(\"turtle\")\n",
    "\n",
    "def square(length):\n",
    "    for i in range(4):\n",
    "        t.forward(length)\n",
    "        t.left(90)\n",
    "\n",
    "square(100)\n",
    "t.up()\n",
    "t.goto(-200,0)\n",
    "t.down()\n",
    "\n",
    "square(100)"
   ]
  },
  {
   "cell_type": "code",
   "execution_count": 7,
   "id": "0a868a88",
   "metadata": {},
   "outputs": [
    {
     "name": "stdout",
     "output_type": "stream",
     "text": [
      "원의 반지름5.0\n",
      "78.5\n"
     ]
    }
   ],
   "source": [
    "#지역변수 local variable: 함수 안에서 생성되어 사용되는 변수, 함수 종료 시 사라짐\n",
    "#전역변수 global variable: 프로그램 어디서나 사용할 수 있음\n",
    "\n",
    "def calc_area():\n",
    "    result=3.14*r**2 #함수 밖에서 호출X\n",
    "    return result\n",
    "\n",
    "r=float(input(\"원의 반지름\"))\n",
    "area=calc_area()\n",
    "print(area)"
   ]
  },
  {
   "cell_type": "code",
   "execution_count": 8,
   "id": "a771b7dc",
   "metadata": {},
   "outputs": [
    {
     "name": "stdout",
     "output_type": "stream",
     "text": [
      "원의 반지름5.0\n",
      "78.5\n"
     ]
    }
   ],
   "source": [
    "result=0\n",
    "def calc_area():\n",
    "    global result #전역변수임을 밝힘\n",
    "    result=3.14*r**2\n",
    "\n",
    "r=float(input(\"원의 반지름\"))\n",
    "calc_area()\n",
    "print(area)"
   ]
  },
  {
   "cell_type": "code",
   "execution_count": 9,
   "id": "7e2c5020",
   "metadata": {},
   "outputs": [
    {
     "name": "stdout",
     "output_type": "stream",
     "text": [
      "안녕 영희,잘 지내죠?\n"
     ]
    }
   ],
   "source": [
    "def greet(name, msg=\"잘 지내죠?\"):\n",
    "    print(\"안녕\", name+\",\"+msg)\n",
    "greet(\"영희\")"
   ]
  },
  {
   "cell_type": "code",
   "execution_count": null,
   "id": "ab99ad03",
   "metadata": {},
   "outputs": [],
   "source": [
    "#키워드 인수\n",
    "#위치인수positional argument : 인수를 위치에 의해 구분\n",
    "#키워드 인수keyword argument: 인수를 키워드에 따라 구분"
   ]
  },
  {
   "cell_type": "code",
   "execution_count": null,
   "id": "6ce5a72d",
   "metadata": {},
   "outputs": [],
   "source": [
    "#환전"
   ]
  },
  {
   "cell_type": "code",
   "execution_count": 11,
   "id": "3f7fc87e",
   "metadata": {},
   "outputs": [
    {
     "name": "stdout",
     "output_type": "stream",
     "text": [
      "환전 금액(원)을 입력하세요1000\n",
      "국가를 입력하세요중국\n"
     ]
    },
    {
     "ename": "ValueError",
     "evalue": "invalid literal for int() with base 10: '중국'",
     "output_type": "error",
     "traceback": [
      "\u001b[1;31m---------------------------------------------------------------------------\u001b[0m",
      "\u001b[1;31mValueError\u001b[0m                                Traceback (most recent call last)",
      "\u001b[1;32m<ipython-input-11-5d74df7c219f>\u001b[0m in \u001b[0;36m<module>\u001b[1;34m\u001b[0m\n\u001b[0;32m     25\u001b[0m     \u001b[0mprint\u001b[0m\u001b[1;33m(\u001b[0m\u001b[0mm\u001b[0m\u001b[1;33m,\u001b[0m\u001b[1;34m\"원은\"\u001b[0m\u001b[1;33m,\u001b[0m\u001b[0mresult\u001b[0m\u001b[1;33m,\u001b[0m\u001b[0munit\u001b[0m\u001b[1;33m,\u001b[0m\u001b[1;34m\"입니다\"\u001b[0m\u001b[1;33m)\u001b[0m\u001b[1;33m\u001b[0m\u001b[1;33m\u001b[0m\u001b[0m\n\u001b[0;32m     26\u001b[0m \u001b[1;33m\u001b[0m\u001b[0m\n\u001b[1;32m---> 27\u001b[1;33m \u001b[0mexchange\u001b[0m\u001b[1;33m(\u001b[0m\u001b[1;33m)\u001b[0m\u001b[1;33m\u001b[0m\u001b[1;33m\u001b[0m\u001b[0m\n\u001b[0m",
      "\u001b[1;32m<ipython-input-11-5d74df7c219f>\u001b[0m in \u001b[0;36mexchange\u001b[1;34m()\u001b[0m\n\u001b[0;32m      6\u001b[0m \u001b[1;33m\u001b[0m\u001b[0m\n\u001b[0;32m      7\u001b[0m     \u001b[0mm\u001b[0m \u001b[1;33m=\u001b[0m \u001b[0mint\u001b[0m\u001b[1;33m(\u001b[0m\u001b[0minput\u001b[0m\u001b[1;33m(\u001b[0m\u001b[1;34m\"환전 금액(원)을 입력하세요\"\u001b[0m\u001b[1;33m)\u001b[0m\u001b[1;33m)\u001b[0m\u001b[1;33m\u001b[0m\u001b[1;33m\u001b[0m\u001b[0m\n\u001b[1;32m----> 8\u001b[1;33m     \u001b[0mcountry\u001b[0m \u001b[1;33m=\u001b[0m \u001b[0mint\u001b[0m\u001b[1;33m(\u001b[0m\u001b[0minput\u001b[0m\u001b[1;33m(\u001b[0m\u001b[1;34m\"국가를 입력하세요\"\u001b[0m\u001b[1;33m)\u001b[0m\u001b[1;33m)\u001b[0m\u001b[1;33m\u001b[0m\u001b[1;33m\u001b[0m\u001b[0m\n\u001b[0m\u001b[0;32m      9\u001b[0m \u001b[1;33m\u001b[0m\u001b[0m\n\u001b[0;32m     10\u001b[0m     \u001b[1;32mif\u001b[0m \u001b[0mcountry\u001b[0m \u001b[1;33m==\u001b[0m \u001b[0mcountry_list\u001b[0m\u001b[1;33m[\u001b[0m\u001b[1;36m0\u001b[0m\u001b[1;33m]\u001b[0m\u001b[1;33m:\u001b[0m\u001b[1;33m\u001b[0m\u001b[1;33m\u001b[0m\u001b[0m\n",
      "\u001b[1;31mValueError\u001b[0m: invalid literal for int() with base 10: '중국'"
     ]
    }
   ],
   "source": [
    "def exchange(m, country):\n",
    "    country_list = ['미국', '중국', '유럽', '일본']\n",
    "    unit= ['달러', '위안', '유로', '엔']\n",
    "    rate = [1182.5, 169.22, 1286.74, 1078.14]\n",
    "    \n",
    "    \n",
    "    m = int(input(\"환전 금액(원)을 입력하세요\"))\n",
    "    country = int(input(\"국가를 입력하세요\"))\n",
    "    \n",
    "    if country == country_list[0]:\n",
    "        unit= unit[0]\n",
    "        rate= rate[0]\n",
    "    elif country == country_list[1]:\n",
    "        unit= unit[1]\n",
    "        rate= rate[1]\n",
    "    elif country == country_list[2]:\n",
    "        unit= unit[2]\n",
    "        rate= rate[2]\n",
    "    elif country == country_list[3]:\n",
    "        unit= unit[3]\n",
    "        rate= rate[3]\n",
    "    \n",
    "    result = round(m / rate[m_code], 2)\n",
    "    \n",
    "    print(m,\"원은\",result,unit,\"입니다\")\n",
    "\n",
    "exchange()"
   ]
  },
  {
   "cell_type": "code",
   "execution_count": 12,
   "id": "395cdc1d",
   "metadata": {},
   "outputs": [
    {
     "name": "stdout",
     "output_type": "stream",
     "text": [
      "환전 금액(원)을 입력하세요: 1000\n",
      "국가를 입력하세요: 중국\n",
      "1000 원은 5.91 위안 입니다\n"
     ]
    }
   ],
   "source": [
    "#강사님\n",
    "\n",
    "def exchange(m, c) :\n",
    "    if c in country_list :\n",
    "        m_code = country_list.index(c)\n",
    "    else :\n",
    "        print(\"해당 국가 정보가 없습니다\")\n",
    "        return\n",
    "\n",
    "    result = round(m / rate[m_code], 2)\n",
    "\n",
    "    print( m,\"원은\", result, unit[m_code],\"입니다\")\n",
    "        \n",
    "                \n",
    "country_list = ['미국', '중국', '유럽', '일본']\n",
    "unit= ['달러', '위안', '유로', '엔']\n",
    "rate = [1182.5, 169.22, 1286.74, 1078.14]\n",
    "\n",
    "money1 = int(input(\"환전 금액(원)을 입력하세요: \"))\n",
    "country = input(\"국가를 입력하세요: \" )\n",
    "exchange(money1, country)"
   ]
  },
  {
   "cell_type": "code",
   "execution_count": null,
   "id": "aeffd6e3",
   "metadata": {},
   "outputs": [],
   "source": []
  }
 ],
 "metadata": {
  "kernelspec": {
   "display_name": "Python 3",
   "language": "python",
   "name": "python3"
  },
  "language_info": {
   "codemirror_mode": {
    "name": "ipython",
    "version": 3
   },
   "file_extension": ".py",
   "mimetype": "text/x-python",
   "name": "python",
   "nbconvert_exporter": "python",
   "pygments_lexer": "ipython3",
   "version": "3.8.8"
  }
 },
 "nbformat": 4,
 "nbformat_minor": 5
}
