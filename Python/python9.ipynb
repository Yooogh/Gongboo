{
 "cells": [
  {
   "cell_type": "code",
   "execution_count": null,
   "id": "88071634",
   "metadata": {},
   "outputs": [],
   "source": [
    "#딕셔너리\n",
    "파이썬에서 사용되는 자료형\n",
    "여러개의 데이터를 한꺼번에 저장하고 처리\n",
    "키 밸류 짝을 이룸\n",
    "키값을 이용해 자료에 접근\n",
    "하나씩 매핑하여 저장\n",
    "리스트와 마찬가지로 어떤 유형의 값도 젖아 가능\n",
    "다른 딕셔너리도 항목으로 저장 가능\n",
    "\n",
    "phone.book = {'홍길동':'010-1234-5678'}"
   ]
  },
  {
   "cell_type": "code",
   "execution_count": null,
   "id": "db084efa",
   "metadata": {},
   "outputs": [],
   "source": [
    "#딕셔너리 생성과 추가\n",
    "딕셔너리에서 사용할 키는 유일하고 변경되어선 X\n",
    "리스트와 같이 변경될 수 있는 자료형은 딕셔너리에서 키로 사용 불가능"
   ]
  },
  {
   "cell_type": "code",
   "execution_count": 5,
   "id": "f40b291f",
   "metadata": {},
   "outputs": [
    {
     "name": "stdout",
     "output_type": "stream",
     "text": [
      "홍길동\n"
     ]
    }
   ],
   "source": [
    "dict={'Name':'홍길동', 'Age':7, 'Class':'초급'}\n",
    "print(dict['Name'])"
   ]
  },
  {
   "cell_type": "code",
   "execution_count": 7,
   "id": "532a044f",
   "metadata": {},
   "outputs": [
    {
     "name": "stdout",
     "output_type": "stream",
     "text": [
      "010-1111-2222\n"
     ]
    }
   ],
   "source": [
    "phone_book={'홍길동':'010-1234-5678', \n",
    "            '강감찬':'010-1111-2222', \n",
    "            '이순신':'010-3333-4444'}\n",
    "print(phone_book['강감찬'])"
   ]
  },
  {
   "cell_type": "code",
   "execution_count": 8,
   "id": "5c73c1e5",
   "metadata": {},
   "outputs": [
    {
     "name": "stdout",
     "output_type": "stream",
     "text": [
      "dict_keys(['홍길동', '강감찬', '이순신'])\n"
     ]
    }
   ],
   "source": [
    "#딕셔너리를 모르면 keys() 사용해 모든 키 보기 가능\n",
    "print(phone_book.keys())"
   ]
  },
  {
   "cell_type": "code",
   "execution_count": 9,
   "id": "aaa3d24b",
   "metadata": {},
   "outputs": [
    {
     "name": "stdout",
     "output_type": "stream",
     "text": [
      "강감찬 010-1111-2222\n",
      "이순신 010-3333-4444\n",
      "홍길동 010-1234-5678\n"
     ]
    }
   ],
   "source": [
    "for key in sorted(phone_book.keys()):\n",
    "    print(key, phone_book[key])"
   ]
  },
  {
   "cell_type": "code",
   "execution_count": 10,
   "id": "1fedc331",
   "metadata": {},
   "outputs": [
    {
     "name": "stdout",
     "output_type": "stream",
     "text": [
      "dict_values(['010-1234-5678', '010-1111-2222', '010-3333-4444'])\n"
     ]
    }
   ],
   "source": [
    "print(phone_book.values())"
   ]
  },
  {
   "cell_type": "code",
   "execution_count": 12,
   "id": "b4fff644",
   "metadata": {},
   "outputs": [
    {
     "ename": "KeyError",
     "evalue": "'홍길동'",
     "output_type": "error",
     "traceback": [
      "\u001b[1;31m---------------------------------------------------------------------------\u001b[0m",
      "\u001b[1;31mKeyError\u001b[0m                                  Traceback (most recent call last)",
      "\u001b[1;32m<ipython-input-12-ba8f78f6143c>\u001b[0m in \u001b[0;36m<module>\u001b[1;34m\u001b[0m\n\u001b[1;32m----> 1\u001b[1;33m \u001b[1;32mdel\u001b[0m \u001b[0mphone_book\u001b[0m\u001b[1;33m[\u001b[0m\u001b[1;34m'홍길동'\u001b[0m\u001b[1;33m]\u001b[0m\u001b[1;33m\u001b[0m\u001b[1;33m\u001b[0m\u001b[0m\n\u001b[0m\u001b[0;32m      2\u001b[0m \u001b[0mprint\u001b[0m\u001b[1;33m(\u001b[0m\u001b[0mphone_book\u001b[0m\u001b[1;33m)\u001b[0m\u001b[1;33m\u001b[0m\u001b[1;33m\u001b[0m\u001b[0m\n",
      "\u001b[1;31mKeyError\u001b[0m: '홍길동'"
     ]
    }
   ],
   "source": [
    "del phone_book['홍길동']\n",
    "print(phone_book)\n",
    "\n",
    "print(phone_book.pop('이순신'))"
   ]
  },
  {
   "cell_type": "code",
   "execution_count": 13,
   "id": "3b3ce438",
   "metadata": {},
   "outputs": [
    {
     "name": "stdout",
     "output_type": "stream",
     "text": [
      "강감찬의 전화번호는 010-1111-2222입니다\n",
      "이순신의 전화번호는 010-3333-4444입니다\n"
     ]
    }
   ],
   "source": [
    "for k, v in phone_book.items():\n",
    "    print('{}의 전화번호는 {}입니다'.format(k, v))"
   ]
  },
  {
   "cell_type": "code",
   "execution_count": null,
   "id": "82ee845f",
   "metadata": {},
   "outputs": [],
   "source": [
    "#집합\n",
    "자료의 묶음\n",
    "중복 노 순서 노"
   ]
  },
  {
   "cell_type": "code",
   "execution_count": 21,
   "id": "66327a08",
   "metadata": {},
   "outputs": [],
   "source": [
    "import smtplib\n",
    "from email.mime.text import MIMEText\n",
    "\n",
    "me='gkdlslql12@gmail.com'\n",
    "you='yoogh95@gmail.com'\n",
    "contents='12월 20일에 동창회가 있으니 참석해주시기 바랍니다'\n",
    "msg=MIMEText(contents, _charset='euc-kr')\n",
    "msg['Subject']='동창회 모임'\n",
    "msg['From']=me\n",
    "msg['To']=you"
   ]
  },
  {
   "cell_type": "raw",
   "id": "f15d60e7",
   "metadata": {},
   "source": [
    "server = smtplib.SMTP('smtp.gmail.com', 587)\n",
    "\n",
    "server.ehlo()\n",
    "server.starttls()\n",
    "server.ehlo()\n",
    "server.login(\"gkdlslql12@gmail.com\", \"lgh9558rr!\")\n",
    "\n",
    "server.sendmail(me, you, msg.as_string())\n",
    "server.quit()"
   ]
  },
  {
   "cell_type": "code",
   "execution_count": null,
   "id": "46aa3a50",
   "metadata": {},
   "outputs": [],
   "source": [
    "import smtplib\n",
    "from email.mime.text import MIMEText\n",
    "me = 'abc@server.kr'     # 보내는 사람 메일 주소 \n",
    "you = 'def@server.com'  # 받는 사람 메일 주소 \n",
    "contents = '12월 20일에 동창회가 있으니 참석해주시기 바랍니다.' \n",
    "\n",
    "msg = MIMEText(contents, _charset='euc-kr') \n",
    "msg['Subject'] = '동창회 모임' \n",
    "\n",
    "\n",
    "msg['From'] = me \n",
    "msg['To'] = you\n",
    "server = smtplib.SMTP('smtp.gmail.com', 587)\n",
    "server.ehlo()\n",
    "server.starttls()\n",
    "server.ehlo()\n",
    "server.login(\"자신의 아이디\", \"패스워드\")\n",
    "\n",
    "server.sendmail(me, you, msg.as_string()) \n",
    "server.quit()"
   ]
  }
 ],
 "metadata": {
  "kernelspec": {
   "display_name": "Python 3",
   "language": "python",
   "name": "python3"
  },
  "language_info": {
   "codemirror_mode": {
    "name": "ipython",
    "version": 3
   },
   "file_extension": ".py",
   "mimetype": "text/x-python",
   "name": "python",
   "nbconvert_exporter": "python",
   "pygments_lexer": "ipython3",
   "version": "3.8.8"
  }
 },
 "nbformat": 4,
 "nbformat_minor": 5
}
