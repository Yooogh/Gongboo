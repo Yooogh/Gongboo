{
 "cells": [
  {
   "cell_type": "code",
   "execution_count": null,
   "id": "94729c17",
   "metadata": {},
   "outputs": [],
   "source": [
    "#리스트\n",
    "#인덱스 : 리스트의 항목 위치 번호"
   ]
  },
  {
   "cell_type": "code",
   "execution_count": 1,
   "id": "151fd122",
   "metadata": {},
   "outputs": [
    {
     "name": "stdout",
     "output_type": "stream",
     "text": [
      "['A', 'B', 'C']\n",
      "['A', 'B', 'C']\n",
      "['D', 'e', 'F']\n",
      "['A', 'B', 'C', 'D', 'e', 'F']\n"
     ]
    }
   ],
   "source": [
    "#슬라이싱slicing : 여러개의 항목을 추출하는 기법\n",
    "letters = [\"A\",\"B\",\"C\",\"D\",\"e\",\"F\"]\n",
    "print(letters[0:3])\n",
    "print(letters[ :3])\n",
    "print(letters[3: ])\n",
    "print(letters[ : ])"
   ]
  },
  {
   "cell_type": "code",
   "execution_count": null,
   "id": "f85aa5aa",
   "metadata": {},
   "outputs": [],
   "source": [
    "#없는 인덱스 항목은 변경 노노\n",
    "cart[10]='양말'"
   ]
  },
  {
   "cell_type": "code",
   "execution_count": null,
   "id": "65e61cab",
   "metadata": {},
   "outputs": [],
   "source": [
    "#리스트 추가\n",
    "cart=['사과','세제','화장지','치약']\n",
    "cart.append('양말')\n",
    "cart.insert(1, '건전지')"
   ]
  },
  {
   "cell_type": "code",
   "execution_count": null,
   "id": "852525f4",
   "metadata": {},
   "outputs": [],
   "source": [
    "#리스트 삭제\n",
    "cart.remove('화장지')"
   ]
  },
  {
   "cell_type": "code",
   "execution_count": 3,
   "id": "d7b95299",
   "metadata": {},
   "outputs": [
    {
     "name": "stdout",
     "output_type": "stream",
     "text": [
      "['스칼렛위치', '아이언맨', '토르', '헐크']\n"
     ]
    }
   ],
   "source": [
    "#정렬\n",
    "heroes=['아이언맨','토르','헐크','스칼렛위치']\n",
    "heroes.sort()\n",
    "print(heroes)"
   ]
  },
  {
   "cell_type": "code",
   "execution_count": 2,
   "id": "1fb987bf",
   "metadata": {},
   "outputs": [
    {
     "name": "stdout",
     "output_type": "stream",
     "text": [
      "[[1, 2, 3], [4, 5, 6]]\n"
     ]
    }
   ],
   "source": [
    "#2차원 리스트\n",
    "num=[[10,20,30],[40,50,60]]\n",
    "print(num)\n",
    "#각각 행, 렬이 아니고 2차원 리스트임"
   ]
  },
  {
   "cell_type": "code",
   "execution_count": 4,
   "id": "16729a3b",
   "metadata": {},
   "outputs": [
    {
     "name": "stdout",
     "output_type": "stream",
     "text": [
      "1\n",
      "2\n",
      "5\n",
      "[[1, 2, 3], [4, 5, 100]]\n"
     ]
    }
   ],
   "source": [
    "print(num[0][0])\n",
    "print(num[0][1])\n",
    "print(num[1][1])\n",
    "num[1][2] = 100\n",
    "print(num)"
   ]
  },
  {
   "cell_type": "code",
   "execution_count": 7,
   "id": "1b6bbbad",
   "metadata": {},
   "outputs": [
    {
     "name": "stdout",
     "output_type": "stream",
     "text": [
      "i= 1\n",
      "i= 2\n",
      "i= 3\n"
     ]
    }
   ],
   "source": [
    "for i in [1,2,3]:\n",
    "    print(\"i=\",i)"
   ]
  },
  {
   "cell_type": "code",
   "execution_count": null,
   "id": "124c37ad",
   "metadata": {},
   "outputs": [],
   "source": [
    "for i in range(5):\n",
    "    name=input(\"영웅들의 이름을 입력하시오: \")\n",
    "    heroes.append(name)\n",
    "for i in heroes:\n",
    "    print(i, end=\" \")"
   ]
  },
  {
   "cell_type": "code",
   "execution_count": null,
   "id": "91b1ee78",
   "metadata": {},
   "outputs": [],
   "source": [
    "#주기율표"
   ]
  },
  {
   "cell_type": "code",
   "execution_count": 9,
   "id": "8849e0aa",
   "metadata": {},
   "outputs": [
    {
     "name": "stdout",
     "output_type": "stream",
     "text": [
      "주기율표 구절을 입력하시오: 수헬리베붕\n",
      "주기율표 구절을 입력하시오: 탄질산플네나\n",
      "주기율표 구절을 입력하시오: 마알규\n",
      "주기율표 구절을 입력하시오: 인황염아칼칼\n",
      "['수헬리베붕', '탄질산플네나', '마알규', '인황염아칼칼']\n"
     ]
    }
   ],
   "source": [
    "periodic_table = [ ]\n",
    "i=0\n",
    "while i<4:\n",
    "    periodic = input(\"주기율표 구절을 입력하시오: \")\n",
    "    periodic_table.append(periodic)\n",
    "    i+=1\n",
    "print(periodic_table)"
   ]
  },
  {
   "cell_type": "code",
   "execution_count": null,
   "id": "31efedd9",
   "metadata": {},
   "outputs": [],
   "source": []
  }
 ],
 "metadata": {
  "kernelspec": {
   "display_name": "Python 3",
   "language": "python",
   "name": "python3"
  },
  "language_info": {
   "codemirror_mode": {
    "name": "ipython",
    "version": 3
   },
   "file_extension": ".py",
   "mimetype": "text/x-python",
   "name": "python",
   "nbconvert_exporter": "python",
   "pygments_lexer": "ipython3",
   "version": "3.8.8"
  }
 },
 "nbformat": 4,
 "nbformat_minor": 5
}
