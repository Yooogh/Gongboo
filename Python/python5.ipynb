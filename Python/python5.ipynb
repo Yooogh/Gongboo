{
 "cells": [
  {
   "cell_type": "code",
   "execution_count": null,
   "id": "63de94b6",
   "metadata": {},
   "outputs": [],
   "source": [
    "#조건문"
   ]
  },
  {
   "cell_type": "code",
   "execution_count": 6,
   "id": "bf858dfe",
   "metadata": {},
   "outputs": [
    {
     "name": "stdout",
     "output_type": "stream",
     "text": [
      "합격입니다!\n",
      "수고하셨습니다\n"
     ]
    }
   ],
   "source": [
    "score = 91\n",
    "if score>=60:\n",
    "    print(\"합격입니다!\")\n",
    "print(\"수고하셨습니다\")"
   ]
  },
  {
   "cell_type": "code",
   "execution_count": 7,
   "id": "ee4042ec",
   "metadata": {},
   "outputs": [
    {
     "name": "stdout",
     "output_type": "stream",
     "text": [
      "합격입니다.\n"
     ]
    }
   ],
   "source": [
    "if score>=60:\n",
    "    print(\"합격입니다.\")\n",
    "else :\n",
    "    print(\"불합격입니다.\")"
   ]
  },
  {
   "cell_type": "code",
   "execution_count": 8,
   "id": "2de319c2",
   "metadata": {},
   "outputs": [
    {
     "name": "stdout",
     "output_type": "stream",
     "text": [
      "합격입니다.\n",
      "장학금도 받을 수 있습니다.\n"
     ]
    }
   ],
   "source": [
    "if score>90:\n",
    "    print(\"합격입니다.\")\n",
    "    print(\"장학금도 받을 수 있습니다.\")"
   ]
  },
  {
   "cell_type": "code",
   "execution_count": 9,
   "id": "392a999a",
   "metadata": {},
   "outputs": [
    {
     "name": "stdout",
     "output_type": "stream",
     "text": [
      "언어를 선택하세요!(1=한국어, 2=영어, 3=프랑스어, 4=독일어)1\n",
      "안녕\n"
     ]
    }
   ],
   "source": [
    "language = int(input(\"언어를 선택하세요!(1=한국어, 2=영어, 3=프랑스어, 4=독일어)\"))\n",
    "if language == 1 :\n",
    "    print(\"안녕\")\n",
    "if language == 2 :\n",
    "    print(\"Hello\")\n",
    "if language == 3 :\n",
    "    print(\"Bonjour\")"
   ]
  },
  {
   "cell_type": "code",
   "execution_count": 10,
   "id": "cb5ed734",
   "metadata": {},
   "outputs": [
    {
     "name": "stdout",
     "output_type": "stream",
     "text": [
      "놀이기구를 탈 수 있다\n"
     ]
    }
   ],
   "source": [
    "age = 11\n",
    "height = 110\n",
    "if(age>=10 and height>=110) :\n",
    "    print(\"놀이기구를 탈 수 있다\")"
   ]
  },
  {
   "cell_type": "code",
   "execution_count": null,
   "id": "97665d7a",
   "metadata": {},
   "outputs": [],
   "source": [
    "#직각삼각형 판별하기"
   ]
  },
  {
   "cell_type": "code",
   "execution_count": 12,
   "id": "8437ebc5",
   "metadata": {},
   "outputs": [
    {
     "name": "stdout",
     "output_type": "stream",
     "text": [
      "변a의 길이3\n",
      "변b의 길이5\n",
      "변c의 길이6\n",
      "직각삼각형입니다.\n"
     ]
    }
   ],
   "source": [
    "a = int(input(\"변a의 길이\"))\n",
    "b = int(input(\"변b의 길이\"))\n",
    "c = int(input(\"변c의 길이\"))\n",
    "if a**2+b**2 == c**2 :\n",
    "    print(\"직각삼각형입니다.\")\n",
    "else :\n",
    "    print(\"직각삼각형입니다.\")"
   ]
  },
  {
   "cell_type": "code",
   "execution_count": 14,
   "id": "2444a433",
   "metadata": {},
   "outputs": [
    {
     "name": "stdout",
     "output_type": "stream",
     "text": [
      "주민등록번호의 성별 정보 번호를 생성합니다\n",
      "생성번호: 4\n",
      "여성입니다.\n",
      "프로그램을 종료합니다.\n"
     ]
    }
   ],
   "source": [
    "print(\"주민등록번호의 성별 정보 번호를 생성합니다\")\n",
    "no = int(input(\"생성번호: \"))\n",
    "if no == 1 or no == 3:\n",
    "    print(\"남성입니다.\")\n",
    "elif no == 2 or no ==4:\n",
    "    print(\"여성입니다.\")\n",
    "print(\"프로그램을 종료합니다.\")"
   ]
  },
  {
   "cell_type": "code",
   "execution_count": null,
   "id": "60cbfab8",
   "metadata": {},
   "outputs": [],
   "source": [
    "#이차방정식의 판별식"
   ]
  },
  {
   "cell_type": "code",
   "execution_count": 18,
   "id": "09b6dbe7",
   "metadata": {},
   "outputs": [
    {
     "name": "stdout",
     "output_type": "stream",
     "text": [
      "a값 입력1\n",
      "b값 입력3\n",
      "c값 입력4\n",
      "방정식은 서로 다른 두 허근입니다\n"
     ]
    }
   ],
   "source": [
    "a = float(input(\"a값 입력\"))\n",
    "b = float(input(\"b값 입력\"))\n",
    "c = float(input(\"c값 입력\"))\n",
    "D = b**2 - (4*a*c)\n",
    "if D>0:\n",
    "    print(\"방정식은 서로 다른 두 실근입니다.\")\n",
    "elif D==0:\n",
    "    print(\"방정식은 서로 같은 두 실근(중근)입니다\")\n",
    "else :\n",
    "    print(\"방정식은 서로 다른 두 허근입니다\")"
   ]
  },
  {
   "cell_type": "code",
   "execution_count": null,
   "id": "6c0bae79",
   "metadata": {},
   "outputs": [],
   "source": [
    "#두 원의 위치 관계 시뮬레이션"
   ]
  }
 ],
 "metadata": {
  "kernelspec": {
   "display_name": "Python 3",
   "language": "python",
   "name": "python3"
  },
  "language_info": {
   "codemirror_mode": {
    "name": "ipython",
    "version": 3
   },
   "file_extension": ".py",
   "mimetype": "text/x-python",
   "name": "python",
   "nbconvert_exporter": "python",
   "pygments_lexer": "ipython3",
   "version": "3.8.8"
  }
 },
 "nbformat": 4,
 "nbformat_minor": 5
}
