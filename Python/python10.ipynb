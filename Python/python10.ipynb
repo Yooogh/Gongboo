{
 "cells": [
  {
   "cell_type": "code",
   "execution_count": 27,
   "metadata": {
    "collapsed": true,
    "pycharm": {
     "name": "#%%파일 읽어오기\n"
    }
   },
   "outputs": [
    {
     "name": "stdout",
     "output_type": "stream",
     "text": [
      "유경혜 010-4809-8686\n",
      "장은영 010-4467-7643\n",
      "이선명 010-3454-1278\n"
     ]
    }
   ],
   "source": [
    "infile = open('phones.txt', 'r', encoding='utf-8')\n",
    "lines = infile.read()\n",
    "print(lines)\n",
    "infile.close()"
   ]
  },
  {
   "cell_type": "code",
   "execution_count": 11,
   "outputs": [
    {
     "data": {
      "text/plain": "'D:\\\\workspace\\\\Gongboo\\\\Python'"
     },
     "execution_count": 11,
     "metadata": {},
     "output_type": "execute_result"
    }
   ],
   "source": [
    "import os\n",
    "os.getcwd()"
   ],
   "metadata": {
    "collapsed": false,
    "pycharm": {
     "name": "#%%(쥬피터노트북)현재 자기 위치 읽는 함수\n"
    }
   }
  },
  {
   "cell_type": "code",
   "execution_count": 12,
   "outputs": [
    {
     "data": {
      "text/plain": "['.idea',\n 'main.py',\n 'phones.txt',\n 'python1.ipynb',\n 'python10.ipynb',\n 'python2.ipynb',\n 'python3.ipynb',\n 'python4.ipynb',\n 'python5.ipynb',\n 'python6.ipynb',\n 'python7.ipynb',\n 'python8.ipynb',\n 'python9.ipynb',\n 'venv']"
     },
     "execution_count": 12,
     "metadata": {},
     "output_type": "execute_result"
    }
   ],
   "source": [
    "os.listdir()"
   ],
   "metadata": {
    "collapsed": false,
    "pycharm": {
     "name": "#%%\n"
    }
   }
  },
  {
   "cell_type": "code",
   "execution_count": 28,
   "outputs": [
    {
     "name": "stdout",
     "output_type": "stream",
     "text": [
      "유경혜 010-4809-8686\n",
      "장은영 010-4467-7643\n",
      "이선명 010-3454-1278\n"
     ]
    }
   ],
   "source": [
    "infile = open(\"phones.txt\", \"r\", encoding=\"utf-8\")\n",
    "line = infile.readline().rstrip()\n",
    "while line!= \"\":\n",
    "    print(line)\n",
    "    line = infile.readline().rstrip()\n",
    "infile.close()"
   ],
   "metadata": {
    "collapsed": false,
    "pycharm": {
     "name": "#%%한 줄씩 읽어오기(while)\n"
    }
   }
  },
  {
   "cell_type": "code",
   "execution_count": 33,
   "outputs": [
    {
     "name": "stdout",
     "output_type": "stream",
     "text": [
      "유경혜 010-4809-8686\n",
      "장은영 010-4467-7643\n",
      "이선명 010-3454-1278강감찬 010-6754-3246홍길동 010-4354-6675정약용 010-6573-7866강감찬 010-6754-3246\n",
      "홍길동 010-4354-6675\n",
      "정약용 010-6573-7866\n"
     ]
    }
   ],
   "source": [
    "infile=open(\"phones.txt\", \"r\", encoding=\"utf-8\")\n",
    "for line in infile :\n",
    "    line = line.rstrip()\n",
    "    print(line)\n",
    "infile.close()"
   ],
   "metadata": {
    "collapsed": false,
    "pycharm": {
     "name": "#%%(for)\n"
    }
   }
  },
  {
   "cell_type": "code",
   "execution_count": 32,
   "outputs": [],
   "source": [
    "outfile = open(\"phones.txt\", \"a\", encoding=\"utf-8\")\n",
    "outfile.write(\"강감찬 010-6754-3246\\n\")\n",
    "outfile.write(\"홍길동 010-4354-6675\\n\")\n",
    "outfile.write(\"정약용 010-6573-7866\\n\")\n",
    "outfile.close()"
   ],
   "metadata": {
    "collapsed": false,
    "pycharm": {
     "name": "#%%데이터 쓰기\n"
    }
   }
  },
  {
   "cell_type": "code",
   "execution_count": 34,
   "outputs": [
    {
     "data": {
      "text/plain": "['All`s', 'well', 'that', 'ends', 'well']"
     },
     "execution_count": 34,
     "metadata": {},
     "output_type": "execute_result"
    }
   ],
   "source": [
    "a = 'All`s well that ends well'\n",
    "a.split()\n"
   ],
   "metadata": {
    "collapsed": false,
    "pycharm": {
     "name": "#%%크롤링하고 문장을 자르고 싶을 때 씀\n"
    }
   }
  },
  {
   "cell_type": "code",
   "execution_count": 35,
   "outputs": [
    {
     "name": "stdout",
     "output_type": "stream",
     "text": [
      "['팀버너스리', '2016', '영국']\n",
      "['리처트 해밍', '1968', '미국']\n",
      "['애즈허르 데이크스트라', '1972', '네덜란드']\n",
      "['더글러스 엥겔바트', '1997', '미국']\n"
     ]
    }
   ],
   "source": [
    "import csv\n",
    "f = open(\"input.csv\", \"r\")\n",
    "data = csv.reader(f)\n",
    "for line in data :\n",
    "    print(line)\n",
    "f.close()"
   ],
   "metadata": {
    "collapsed": false,
    "pycharm": {
     "name": "#%%엑셀.csv 읽어오기\n"
    }
   }
  },
  {
   "cell_type": "code",
   "execution_count": null,
   "outputs": [],
   "source": [
    "infilename = input(\"phones.txt\");\n",
    "outfilename = input(\"temp.txt\");\n",
    "\n",
    "infile  = open(infilename, \"r\")\n",
    "outfile  = open(outfilename, \"w\")\n",
    "\n",
    "# 전체파일을 읽는다\n",
    "ss = infile.read()\n",
    "\n",
    "#전체파일을 쓴다\n",
    "outfile.write(ss)\n",
    "\n",
    "# 파일닫기\n",
    "infile.close()\n",
    "outfile.close()"
   ],
   "metadata": {
    "collapsed": false,
    "pycharm": {
     "name": "#%%LAB 파일복사하기\n"
    }
   }
  },
  {
   "cell_type": "code",
   "execution_count": 45,
   "outputs": [
    {
     "name": "stdout",
     "output_type": "stream",
     "text": [
      "총 단어수 =  268\n"
     ]
    },
    {
     "ename": "KeyError",
     "evalue": "'y'",
     "output_type": "error",
     "traceback": [
      "\u001B[1;31m---------------------------------------------------------------------------\u001B[0m",
      "\u001B[1;31mKeyError\u001B[0m                                  Traceback (most recent call last)",
      "\u001B[1;32m~\\AppData\\Local\\Temp/ipykernel_1124/3235534953.py\u001B[0m in \u001B[0;36m<module>\u001B[1;34m\u001B[0m\n\u001B[0;32m     32\u001B[0m \u001B[1;33m\u001B[0m\u001B[0m\n\u001B[0;32m     33\u001B[0m \u001B[1;32mfor\u001B[0m \u001B[0mword\u001B[0m \u001B[1;32min\u001B[0m \u001B[0mkey\u001B[0m\u001B[1;33m:\u001B[0m\u001B[1;33m\u001B[0m\u001B[1;33m\u001B[0m\u001B[0m\n\u001B[1;32m---> 34\u001B[1;33m     \u001B[0mprint\u001B[0m\u001B[1;33m(\u001B[0m\u001B[0mword\u001B[0m \u001B[1;33m+\u001B[0m \u001B[1;34m\":\"\u001B[0m \u001B[1;33m+\u001B[0m \u001B[0mstr\u001B[0m\u001B[1;33m(\u001B[0m\u001B[0mword_dic\u001B[0m\u001B[1;33m[\u001B[0m\u001B[0mword\u001B[0m\u001B[1;33m]\u001B[0m\u001B[1;33m)\u001B[0m\u001B[1;33m)\u001B[0m\u001B[1;33m\u001B[0m\u001B[1;33m\u001B[0m\u001B[0m\n\u001B[0m\u001B[0;32m     35\u001B[0m \u001B[1;33m\u001B[0m\u001B[0m\n\u001B[0;32m     36\u001B[0m \u001B[0moutfile\u001B[0m\u001B[1;33m.\u001B[0m\u001B[0mclose\u001B[0m\u001B[1;33m(\u001B[0m\u001B[1;33m)\u001B[0m\u001B[1;33m\u001B[0m\u001B[1;33m\u001B[0m\u001B[0m\n",
      "\u001B[1;31mKeyError\u001B[0m: 'y'"
     ]
    }
   ],
   "source": [
    "infile = open(\"input.txt\", \"r\", encoding=\"utf-8\")\n",
    "outfile = open(\"out.txt\", \"w\")\n",
    "\n",
    "word_dic = {}\n",
    "total_count = 0\n",
    "\n",
    "for line in infile:\n",
    "    line = line.rstrip()\n",
    "    word_list = line.split()\n",
    "\n",
    "    for word in word_list:\n",
    "        # 소문자로 변경\n",
    "        word = word.lower()\n",
    "        # , . 삭제\n",
    "        word = word.strip(',')\n",
    "        word = word.strip('.')\n",
    "\n",
    "        if word in word_dic:\n",
    "            word_dic[word] += 1\n",
    "            total_count += 1\n",
    "        else:\n",
    "            word_dic[word] = 1\n",
    "            total_count += 1\n",
    "#단어 빈도수를 결과 파일에 저장, 총 단어수를 화면에 출력하기\n",
    "result = \"\"\n",
    "# 소트에 word_dic의 키값 넣기\n",
    "for key in sorted(word_dic.keys()):\n",
    "    result = key + \"\" + str(word_dic[key])+ \"\\n\"\n",
    "    outfile.write(result)\n",
    "\n",
    "print(\"총 단어수 = \", total_count)\n",
    "\n",
    "outfile.close()\n",
    "infile.close()\n"
   ],
   "metadata": {
    "collapsed": false,
    "pycharm": {
     "name": "#%%연설문 데이터 분석\n"
    }
   }
  }
 ],
 "metadata": {
  "kernelspec": {
   "display_name": "Python 3",
   "language": "python",
   "name": "python3"
  },
  "language_info": {
   "codemirror_mode": {
    "name": "ipython",
    "version": 2
   },
   "file_extension": ".py",
   "mimetype": "text/x-python",
   "name": "python",
   "nbconvert_exporter": "python",
   "pygments_lexer": "ipython2",
   "version": "2.7.6"
  }
 },
 "nbformat": 4,
 "nbformat_minor": 0
}