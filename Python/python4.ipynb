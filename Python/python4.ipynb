{
 "cells": [
  {
   "cell_type": "code",
   "execution_count": 1,
   "id": "ecfac5ca",
   "metadata": {},
   "outputs": [
    {
     "name": "stdout",
     "output_type": "stream",
     "text": [
      "3.14\n"
     ]
    }
   ],
   "source": [
    "#실수 클래스\n",
    "x = 3.14\n",
    "print(x)"
   ]
  },
  {
   "cell_type": "code",
   "execution_count": 2,
   "id": "fbcd84de",
   "metadata": {},
   "outputs": [
    {
     "data": {
      "text/plain": [
       "float"
      ]
     },
     "execution_count": 2,
     "metadata": {},
     "output_type": "execute_result"
    }
   ],
   "source": [
    "type(x)"
   ]
  },
  {
   "cell_type": "code",
   "execution_count": 3,
   "id": "296f4b20",
   "metadata": {},
   "outputs": [
    {
     "name": "stdout",
     "output_type": "stream",
     "text": [
      "H\n",
      "e\n",
      "Pyth\n",
      "Pyth\n",
      "HloPt\n",
      "nohtyP\n"
     ]
    }
   ],
   "source": [
    "s = \"Hello Python\"\n",
    "print(s[0])\n",
    "print(s[1])\n",
    "print(s[6:10]) #6 ~ 10-1 \n",
    "print(s[-6:-2]) #음수는 역순\n",
    "print(s[0:10:2]) # 0 ~10 까지 간격 2\n",
    "print(s[-1:-7:-1])"
   ]
  },
  {
   "cell_type": "code",
   "execution_count": null,
   "id": "a069c137",
   "metadata": {},
   "outputs": [],
   "source": [
    "#소금물의 농도"
   ]
  },
  {
   "cell_type": "code",
   "execution_count": 4,
   "id": "0ee08afb",
   "metadata": {},
   "outputs": [
    {
     "name": "stdout",
     "output_type": "stream",
     "text": [
      "소금물의 농도를 구하는 프로그램입니다\n",
      "소금의 양은 몇 g입니까? 50\n",
      "물의 양은 몇 g입니까? 80\n",
      "소금물의 농도:  62.5\n"
     ]
    }
   ],
   "source": [
    "print(\"소금물의 농도를 구하는 프로그램입니다\")\n",
    "salt = int(input(\"소금의 양은 몇 g입니까? \"))\n",
    "water = int(input(\"물의 양은 몇 g입니까? \"))\n",
    "sw = (salt/water)*100\n",
    "print(\"소금물의 농도: \", sw)"
   ]
  },
  {
   "cell_type": "code",
   "execution_count": 5,
   "id": "f227edd9",
   "metadata": {},
   "outputs": [],
   "source": [
    "#간단한 챗봇 프로그램"
   ]
  },
  {
   "cell_type": "code",
   "execution_count": 3,
   "id": "1128e7a9",
   "metadata": {},
   "outputs": [
    {
     "name": "stdout",
     "output_type": "stream",
     "text": [
      "안녕하세요\n",
      "이름이 뭐예요홍길동\n",
      "만나서 반값습니다.  홍길동 님\n"
     ]
    }
   ],
   "source": [
    "print(\"안녕하세요\")\n",
    "name = input(\"이름이 뭐예요\")\n",
    "print(\"만나서 반값습니다. \", name ,\"님\")"
   ]
  },
  {
   "cell_type": "code",
   "execution_count": 4,
   "id": "98b0ee92",
   "metadata": {},
   "outputs": [
    {
     "name": "stdout",
     "output_type": "stream",
     "text": [
      "홍길동 님, 이름의 길이는 다음과 같군요: 3\n"
     ]
    }
   ],
   "source": [
    "len = len(name)\n",
    "print(name, \"님, 이름의 길이는 다음과 같군요:\", len)"
   ]
  },
  {
   "cell_type": "code",
   "execution_count": 5,
   "id": "c3bdd21c",
   "metadata": {},
   "outputs": [
    {
     "name": "stdout",
     "output_type": "stream",
     "text": [
      "나이는 어떻게 돼요?20\n",
      "20\n"
     ]
    }
   ],
   "source": [
    "age = int(input(\"나이는 어떻게 돼요?\"))\n",
    "print(age)"
   ]
  },
  {
   "cell_type": "code",
   "execution_count": 7,
   "id": "dcb746e1",
   "metadata": {},
   "outputs": [
    {
     "name": "stdout",
     "output_type": "stream",
     "text": [
      "내년이면  21 세가 되시는 군요\n"
     ]
    }
   ],
   "source": [
    "print(\"내년이면 \", age+1, \"세가 되시는 군요\")"
   ]
  },
  {
   "cell_type": "code",
   "execution_count": null,
   "id": "9826476a",
   "metadata": {},
   "outputs": [],
   "source": [
    "#거북이와 인사해봐요"
   ]
  },
  {
   "cell_type": "code",
   "execution_count": null,
   "id": "d122f646",
   "metadata": {},
   "outputs": [],
   "source": [
    "import turtle\n",
    "t=turtle.Turtle()\n",
    "t.shape(\"turtle\")\n",
    "s=turtle.textinput(\"\", \"이름을 입력하시오:\")\n",
    "t.write(\"안녕하세요?씨, 터틀 인사드립니다.\")\n",
    "t.forward(100)\n",
    "t.left(90)\n",
    "t.forward(100)\n",
    "t.left(90)\n",
    "t.forward(100)\n",
    "t.left(90)\n",
    "t.forward(100)"
   ]
  },
  {
   "cell_type": "code",
   "execution_count": null,
   "id": "5bfb4dd3",
   "metadata": {},
   "outputs": [],
   "source": [
    "#암호프로그램 만들기"
   ]
  },
  {
   "cell_type": "code",
   "execution_count": 1,
   "id": "4fb8a7b8",
   "metadata": {},
   "outputs": [
    {
     "name": "stdout",
     "output_type": "stream",
     "text": [
      "평문: 도서관에서 보자\n",
      "암호문: 자보 서에관서도\n"
     ]
    }
   ],
   "source": [
    "P = \"도서관에서 보자\"\n",
    "print(\"평문:\",P)\n",
    "print(\"암호문:\", P[-1: -9 :-1])"
   ]
  },
  {
   "cell_type": "code",
   "execution_count": null,
   "id": "14f06fe9",
   "metadata": {},
   "outputs": [],
   "source": [
    "#2050년에 나는 몇살?"
   ]
  },
  {
   "cell_type": "code",
   "execution_count": 7,
   "id": "804ef855",
   "metadata": {},
   "outputs": [
    {
     "name": "stdout",
     "output_type": "stream",
     "text": [
      "올해는  2021 년입니다.\n"
     ]
    }
   ],
   "source": [
    "import time\n",
    "now = time.time()\n",
    "thisYear = int(1970 + now // (365*24*3600))\n",
    "print(\"올해는 \", str(thisYear), \"년입니다.\")"
   ]
  },
  {
   "cell_type": "code",
   "execution_count": 17,
   "id": "a3d98867",
   "metadata": {},
   "outputs": [
    {
     "name": "stdout",
     "output_type": "stream",
     "text": [
      "당신의 나이를 입력 하세요: 17\n",
      "2050년에는 46살이군요.\n"
     ]
    }
   ],
   "source": [
    "age = int(input(\"당신의 나이를 입력 하세요: \"))\n",
    "print(\"2050년에는 \"+str(age + 2050-thisYear)+\"살이군요.\")"
   ]
  },
  {
   "cell_type": "code",
   "execution_count": null,
   "id": "26605b32",
   "metadata": {},
   "outputs": [],
   "source": []
  }
 ],
 "metadata": {
  "kernelspec": {
   "display_name": "Python 3",
   "language": "python",
   "name": "python3"
  },
  "language_info": {
   "codemirror_mode": {
    "name": "ipython",
    "version": 3
   },
   "file_extension": ".py",
   "mimetype": "text/x-python",
   "name": "python",
   "nbconvert_exporter": "python",
   "pygments_lexer": "ipython3",
   "version": "3.8.8"
  }
 },
 "nbformat": 4,
 "nbformat_minor": 5
}
